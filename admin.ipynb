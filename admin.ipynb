{
 "cells": [
  {
   "cell_type": "code",
   "execution_count": 32,
   "metadata": {},
   "outputs": [],
   "source": [
    "import os\n",
    "import json\n",
    "from datetime import datetime, timedelta\n",
    "import pandas as pd\n",
    "\n",
    "def edit_short_memory(agent_folder, edit_date, wakeup_time=\"07:00\"):\n",
    "    with open(os.path.join(agent_folder, \"short_memory_cache.json\")) as f:\n",
    "        ori_short_memory = json.load(f)\n",
    "\n",
    "    last_date = datetime.strptime(edit_date, \"%m-%d-%Y\") - timedelta(days=1)\n",
    "    last_date_data = pd.read_csv(os.path.join(agent_folder, f\"activity_hist/{last_date.strftime('%m-%d-%Y')}.csv\"))\n",
    "    start_time = f\"{edit_date} 00:00\"\n",
    "    end_time = f\"{edit_date} {wakeup_time}\"\n",
    "\n",
    "    ori_short_memory.keys()\n",
    "    ori_short_memory[\"cur_date\"] = edit_date\n",
    "    ori_short_memory[\"cur_time\"] = \"00:00\"\n",
    "    ori_short_memory[\"cur_activity\"] = \"Sleep\"\n",
    "\n",
    "    ori_short_memory[\"schedule\"] = {'0':{\n",
    "        \"start_time\" : start_time,\n",
    "        \"end_time\" : end_time,\n",
    "        \"event\": \"Sleep\"\n",
    "    }}\n",
    "    ori_short_memory[\"cur_event\"] = {\n",
    "        \"start_time\" : start_time,\n",
    "        \"end_time\" : end_time,\n",
    "        \"event\": \"Sleep\"\n",
    "    }\n",
    "    ori_short_memory[\"cur_event_index\"] = 0\n",
    "    ori_short_memory[\"cur_decompose\"] = [{\n",
    "        'activity': 'Sleep',\n",
    "        'start_time': start_time,\n",
    "        'end_time': end_time\n",
    "    }]\n",
    "    ori_short_memory[\"cur_decompose_index\"] = 0\n",
    "\n",
    "    ori_short_memory[\"cur_location_list\"] = [{\n",
    "        'start_time': start_time,\n",
    "        'end_time': end_time,\n",
    "        'location': last_date_data['location'].iloc[-1],\n",
    "        'longitude': last_date_data['longitude'].iloc[-1],\n",
    "        'latitude': last_date_data['latitude'].iloc[-1]\n",
    "    }]\n",
    "    ori_short_memory[\"cur_location_list_index\"] = 0\n",
    "\n",
    "    ori_short_memory[\"cur_heartrate_list\"] = [{\n",
    "        'mean': last_date_data[\"heartrate\"].tail(30).mean(),\n",
    "        'std': last_date_data[\"heartrate\"].tail(30).std(),\n",
    "        'start_time': start_time,\n",
    "        'end_time': end_time\n",
    "    }]\n",
    "    ori_short_memory[\"cur_heartrate_list_index\"] = 0\n",
    "\n",
    "    ori_short_memory[\"cur_chatbot_dict\"] = {}\n",
    "\n",
    "    ori_short_memory[\"cache\"] = []\n",
    "\n",
    "\n",
    "    with open(os.path.join(agent_folder, \"short_memory_cache.json\"), \"w\") as f:\n",
    "        json.dump(ori_short_memory, f)"
   ]
  },
  {
   "cell_type": "code",
   "execution_count": null,
   "metadata": {},
   "outputs": [],
   "source": [
    "edit_short_memory(\n",
    "    agent_folder=\".Users/ba20c6a3-4736-3840-9d73-3093ff6b3885/agents/1\",\n",
    "    edit_date=\"03-01-2024\",\n",
    "    wakeup_time=\"08:00\"\n",
    ")"
   ]
  },
  {
   "cell_type": "code",
   "execution_count": 61,
   "metadata": {},
   "outputs": [],
   "source": [
    "import os\n",
    "import json\n",
    "import random\n",
    "\n",
    "def inject_intervention(case_folder, agents_list, plan):\n",
    "    agents_folder=os.path.join(case_folder, \"agents\")\n",
    "    intervent_agents = list(filter(lambda x: (x not in agents_list) and (\".\" not in x), os.listdir(agents_folder)))\n",
    "\n",
    "    for _a in intervent_agents:\n",
    "        _long_mem_file = os.path.join(agents_folder, f\"{_a}/long_memory_cache.json\")\n",
    "        with open(_long_mem_file, \"r\") as f:\n",
    "            _long_mem = json.load(f)\n",
    "        plan[\"weekdays\"] = random.sample([0,1,2,3,4,5,6], 3)\n",
    "        _long_mem[\"intervention\"] = plan\n",
    "        with open(_long_mem_file, \"w\") as f:\n",
    "            json.dump(_long_mem, f)"
   ]
  },
  {
   "cell_type": "code",
   "execution_count": 62,
   "metadata": {},
   "outputs": [],
   "source": [
    "intervent_plan = {\n",
    "    \"intro\" : \"Hi, <name>, this is Dr. <name> from the text message walking study. Thank you for participating in this study. For the next 6 weeks we will be in touch through text messaging in regards to your walking. If you have any questions feel free to call/text at this number. Enjoyyour pedometer! Have a great week! :)\",\n",
    "    \"9:00\" : \"Good morning <name>! A good way to monitor your walking is to set a goal! Say to yourself, I am going to walk more than I did yesterday! Set a specific goal for today!\\nGood morning <name>! Today is a great day for a walk! Have you tried walking with a friend or family member? Instead of using the elevator have you tried walking up the stairs?\",\n",
    "    \"12:30\": \"Today is a great afternoon to walk! Remember to always keep yourself hydrated by drinking lots of water!\\nThis is a great time to check your step count! How many steps have you taken? Do you think you can walk more? Have a friend walk with you!\",\n",
    "    \"17:30\" : \"Hey <name> how was your day today? Hope you had a great time walking! Keep up the great work for tomorrow too!\\nOther motivational words Walking will make you healthier and feel great too! It doesn’t hurt to sweat a little when you walk! That means you are working out! Burning thecalories!\\nWalking will help ease the mind and soul. Keep up the great walking! Check your pedometer! You are doing great, <name>. Keep on finding opportunities to walk more! Take breaks during work, park further away in parking lots! Go to the mall and walk!\"\n",
    "}"
   ]
  },
  {
   "cell_type": "code",
   "execution_count": 64,
   "metadata": {},
   "outputs": [],
   "source": [
    "inject_intervention(\n",
    "    case_folder=\".Users/ba20c6a3-4736-3840-9d73-3093ff6b3885\",\n",
    "    agents_list=[],\n",
    "    plan=intervent_plan\n",
    ")"
   ]
  },
  {
   "cell_type": "code",
   "execution_count": null,
   "metadata": {},
   "outputs": [],
   "source": []
  }
 ],
 "metadata": {
  "kernelspec": {
   "display_name": "sima",
   "language": "python",
   "name": "python3"
  },
  "language_info": {
   "codemirror_mode": {
    "name": "ipython",
    "version": 3
   },
   "file_extension": ".py",
   "mimetype": "text/x-python",
   "name": "python",
   "nbconvert_exporter": "python",
   "pygments_lexer": "ipython3",
   "version": "3.10.13"
  }
 },
 "nbformat": 4,
 "nbformat_minor": 2
}
