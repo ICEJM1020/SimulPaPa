{
 "cells": [
  {
   "cell_type": "code",
   "execution_count": 1,
   "metadata": {},
   "outputs": [],
   "source": [
    "import os\n",
    "import json\n",
    "from datetime import datetime, timedelta\n",
    "import pandas as pd\n",
    "\n",
    "def edit_short_memory(agent_folder, edit_date, wakeup_time=\"07:00\"):\n",
    "    with open(os.path.join(agent_folder, \"short_memory_cache.json\")) as f:\n",
    "        ori_short_memory = json.load(f)\n",
    "\n",
    "    last_date = datetime.strptime(edit_date, \"%m-%d-%Y\") - timedelta(days=1)\n",
    "    last_date_data = pd.read_csv(os.path.join(agent_folder, f\"activity_hist/{last_date.strftime('%m-%d-%Y')}.csv\"))\n",
    "    start_time = f\"{edit_date} 00:00\"\n",
    "    end_time = f\"{edit_date} {wakeup_time}\"\n",
    "\n",
    "    ori_short_memory.keys()\n",
    "    ori_short_memory[\"cur_date\"] = edit_date\n",
    "    ori_short_memory[\"cur_time\"] = \"00:00\"\n",
    "    ori_short_memory[\"cur_activity\"] = \"Sleep\"\n",
    "\n",
    "    ori_short_memory[\"schedule\"] = {'0':{\n",
    "        \"start_time\" : start_time,\n",
    "        \"end_time\" : end_time,\n",
    "        \"event\": \"Sleep\"\n",
    "    }}\n",
    "    ori_short_memory[\"cur_event\"] = {\n",
    "        \"start_time\" : start_time,\n",
    "        \"end_time\" : end_time,\n",
    "        \"event\": \"Sleep\"\n",
    "    }\n",
    "    ori_short_memory[\"cur_event_index\"] = 0\n",
    "    ori_short_memory[\"cur_decompose\"] = [{\n",
    "        'activity': 'Sleep',\n",
    "        'start_time': start_time,\n",
    "        'end_time': end_time\n",
    "    }]\n",
    "    ori_short_memory[\"cur_decompose_index\"] = 0\n",
    "\n",
    "    ori_short_memory[\"cur_location_list\"] = [{\n",
    "        'start_time': start_time,\n",
    "        'end_time': end_time,\n",
    "        'location': last_date_data['location'].iloc[-1],\n",
    "        'longitude': last_date_data['longitude'].iloc[-1],\n",
    "        'latitude': last_date_data['latitude'].iloc[-1]\n",
    "    }]\n",
    "    ori_short_memory[\"cur_location_list_index\"] = 0\n",
    "\n",
    "    ori_short_memory[\"cur_heartrate_list\"] = [{\n",
    "        'mean': last_date_data[\"heartrate\"].tail(30).mean(),\n",
    "        'std': last_date_data[\"heartrate\"].tail(30).std(),\n",
    "        'start_time': start_time,\n",
    "        'end_time': end_time\n",
    "    }]\n",
    "    ori_short_memory[\"cur_heartrate_list_index\"] = 0\n",
    "\n",
    "    ori_short_memory[\"cur_chatbot_dict\"] = {}\n",
    "\n",
    "    ori_short_memory[\"cache\"] = \"\"\n",
    "\n",
    "\n",
    "    with open(os.path.join(agent_folder, \"short_memory_cache.json\"), \"w\") as f:\n",
    "        json.dump(ori_short_memory, f)"
   ]
  },
  {
   "cell_type": "code",
   "execution_count": null,
   "metadata": {},
   "outputs": [],
   "source": [
    "edit_short_memory(\n",
    "    agent_folder=\".Users/ba20c6a3-4736-3840-9d73-3093ff6b3885/agents/1\",\n",
    "    edit_date=\"03-02-2024\",\n",
    "    wakeup_time=\"08:00\"\n",
    ")"
   ]
  }
 ],
 "metadata": {
  "kernelspec": {
   "display_name": "sima",
   "language": "python",
   "name": "python3"
  },
  "language_info": {
   "codemirror_mode": {
    "name": "ipython",
    "version": 3
   },
   "file_extension": ".py",
   "mimetype": "text/x-python",
   "name": "python",
   "nbconvert_exporter": "python",
   "pygments_lexer": "ipython3",
   "version": "3.10.13"
  }
 },
 "nbformat": 4,
 "nbformat_minor": 2
}
