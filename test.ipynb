{
 "cells": [
  {
   "cell_type": "code",
   "execution_count": 1,
   "metadata": {},
   "outputs": [],
   "source": [
    "import pandas as pd\n",
    "import matplotlib.pyplot as plt"
   ]
  },
  {
   "cell_type": "code",
   "execution_count": 13,
   "metadata": {},
   "outputs": [
    {
     "name": "stdout",
     "output_type": "stream",
     "text": [
      "Multiple System Atrophy (Progressive)\n",
      "0.8\n",
      "Lewy Body Dementia (Progressive)\n",
      "0.7\n",
      "Essential Tremor (Chronic)\n",
      "0.6\n",
      "Corticobasal Degeneration (Progressive)\n",
      "0.7\n",
      "Wilson's Disease (Progressive)\n",
      "0.5\n",
      "Parkinsonism (Varies)\n",
      "0.8\n",
      "Progressive Supranuclear Palsy (Progressive)\n",
      "0.8\n",
      "Huntington's Disease (Progressive)\n",
      "0.6\n",
      "Amyotrophic Lateral Sclerosis (ALS) (Progressive)\n",
      "0.4\n",
      "Normal Pressure Hydrocephalus (Progressive)\n",
      "0.5\n"
     ]
    }
   ],
   "source": [
    "import re\n",
    "import json\n",
    "# text = \"Thought 1: your thought about this question\\n...\\nThought n: your thought about this question\\nFinal Answer:\\n\"\n",
    "# ans = {f\"disease_{i}\":{\"name\":\"disease_name\",\"stage\":\"disease_progression\",\"similarity\":\"similarity_to_the_given_disease\"} for i in range(1, 6)}\n",
    "# text += json.dumps(ans)\n",
    "text = \"\"\"\n",
    "    {\n",
    "  \"disease_1\": {\"name\": \"Multiple System Atrophy\", \"stage\": \"Progressive\", \"similarity\": 0.8},\n",
    "  \"disease_2\": {\"name\": \"Lewy Body Dementia\", \"stage\": \"Progressive\", \"similarity\": 0.7},\n",
    "  \"disease_3\": {\"name\": \"Essential Tremor\", \"stage\": \"Chronic\", \"similarity\": 0.6},\n",
    "  \"disease_4\": {\"name\": \"Corticobasal Degeneration\", \"stage\": \"Progressive\", \"similarity\": 0.7},\n",
    "  \"disease_5\": {\"name\": \"Wilson's Disease\", \"stage\": \"Progressive\", \"similarity\": 0.5},\n",
    "  \"disease_6\": {\"name\": \"Parkinsonism\", \"stage\": \"Varies\", \"similarity\": 0.8},\n",
    "  \"disease_7\": {\"name\": \"Progressive Supranuclear Palsy\", \"stage\": \"Progressive\", \"similarity\": 0.8},\n",
    "  \"disease_8\": {\"name\": \"Huntington's Disease\", \"stage\": \"Progressive\", \"similarity\": 0.6},\n",
    "  \"disease_9\": {\"name\": \"Amyotrophic Lateral Sclerosis (ALS)\", \"stage\": \"Progressive\", \"similarity\": 0.4},\n",
    "  \"disease_10\": {\"name\": \"Normal Pressure Hydrocephalus\", \"stage\": \"Progressive\", \"similarity\": 0.5}\n",
    "}\n",
    "\"\"\"\n",
    "json_strs = re.findall(r\"\\{(?:[^{}])*\\}\", text, re.MULTILINE | re.IGNORECASE | re.DOTALL)\n",
    "\n",
    "# json_str = json_str.group()\n",
    "# json_obj = json.loads(json_str, strict=False)\n",
    "# json_obj\n",
    "res = {\"option\":[], \"prob\":[]}\n",
    "_p = 0.0\n",
    "for _, json_str in enumerate(json_strs):\n",
    "    disease = json.loads(json_str)\n",
    "    # print(disease)\n",
    "    print(f\"{disease['name']} ({disease['stage']})\")\n",
    "    print(float(disease[\"similarity\"]))\n",
    "    # res[\"option\"].append(f\"{disease['name']} ({disease['stage']})\")\n",
    "    # res[\"prob\"].append(float(disease[\"similarity\"]))\n",
    "    # _p += float(disease[\"similarity\"])\n",
    "res[\"prob\"] = [x / _p for x in res[\"prob\"]]\n"
   ]
  },
  {
   "cell_type": "code",
   "execution_count": 14,
   "metadata": {},
   "outputs": [
    {
     "data": {
      "text/plain": [
       "'{\"name\": \"Normal Pressure Hydrocephalus\", \"stage\": \"Progressive\", \"similarity\": 0.5}'"
      ]
     },
     "execution_count": 14,
     "metadata": {},
     "output_type": "execute_result"
    }
   ],
   "source": [
    "json_str"
   ]
  },
  {
   "cell_type": "code",
   "execution_count": 17,
   "metadata": {},
   "outputs": [],
   "source": [
    "test  = \"\"\"\n",
    "{\"thought_1\": \"John's passion for improving student learning experiences can be leveraged for a new purpose.\",\n",
    "\"thought_2\": \"Considering John's role as a School Principal, how can he continue to support and empower his teachers?\",\n",
    "\"thought_3\": \"John's focus on implementing initiatives may indicate a desire for growth and innovation in the school environment. What actions can he take to further enhance student outcomes?\",\n",
    "\"answer\": \"Today, John Smith will collaborate with teachers to design professional development workshops aimed at enhancing classroom instruction and student engagement at Belltown High School.\"}\n",
    "\"\"\""
   ]
  },
  {
   "cell_type": "code",
   "execution_count": 18,
   "metadata": {},
   "outputs": [
    {
     "data": {
      "text/plain": [
       "{'thought_1': \"John's passion for improving student learning experiences can be leveraged for a new purpose.\",\n",
       " 'thought_2': \"Considering John's role as a School Principal, how can he continue to support and empower his teachers?\",\n",
       " 'thought_3': \"John's focus on implementing initiatives may indicate a desire for growth and innovation in the school environment. What actions can he take to further enhance student outcomes?\",\n",
       " 'answer': 'Today, John Smith will collaborate with teachers to design professional development workshops aimed at enhancing classroom instruction and student engagement at Belltown High School.'}"
      ]
     },
     "execution_count": 18,
     "metadata": {},
     "output_type": "execute_result"
    }
   ],
   "source": [
    "json.loads(test)"
   ]
  },
  {
   "cell_type": "code",
   "execution_count": 4,
   "metadata": {},
   "outputs": [
    {
     "name": "stdout",
     "output_type": "stream",
     "text": [
      "[98, 99, 91, 89, 96, 97, 91, 97, 86, 100, 82, 82, 94, 98, 89, 94, 100, 90, 99, 95, 99, 98, 94, 87]\n",
      "[67, 65, 65, 75, 65, 60, 79, 60, 80, 71, 78, 76, 80, 64, 75, 80, 71, 77, 72, 71, 64, 67, 68, 63]\n",
      "[50, 60, 56, 56, 54, 58, 59, 53, 52, 59, 58, 53, 53, 55, 50, 54, 51, 50, 53, 59, 52, 51, 55, 51]\n"
     ]
    }
   ],
   "source": [
    "import random\n",
    "\n",
    "up = []\n",
    "mean = []\n",
    "bottom = []\n",
    "\n",
    "for i in range(0,24):\n",
    "    up.append(random.randint(80,100))\n",
    "    mean.append(random.randint(60,80))\n",
    "    bottom.append(random.randint(50,60))\n",
    "\n",
    "print(up)\n",
    "print(mean)\n",
    "print(bottom)"
   ]
  },
  {
   "cell_type": "code",
   "execution_count": 5,
   "metadata": {},
   "outputs": [
    {
     "name": "stdout",
     "output_type": "stream",
     "text": [
      "[2, 2, 2, 2, 1, 1, 1, 2, 1, 2, 1, 2, 2, 0, 2, 1, 1, 2, 0, 1, 1, 2, 1, 2]\n"
     ]
    }
   ],
   "source": [
    "temp = []\n",
    "max = 50\n",
    "for i in range(0,24):\n",
    "    # if i < 10:\n",
    "    #     time.append(f\"0{i}:00\")\n",
    "    # else:\n",
    "    #     time.append(f\"{i}:00\")\n",
    "    if random.random() > 0.9:\n",
    "        rand = random.randint(0,max)\n",
    "    else:\n",
    "        rand = random.randint(0,2)\n",
    "    temp.append(rand)\n",
    "    max -= rand\n",
    "    if max<0: max = 0\n",
    "print(temp)"
   ]
  },
  {
   "cell_type": "code",
   "execution_count": 6,
   "metadata": {},
   "outputs": [
    {
     "name": "stdout",
     "output_type": "stream",
     "text": [
      "['rgba(35,212,19,0.89)', 'rgba(108,66,95,1.31)', 'rgba(149,152,138,1.59)', 'rgba(118,112,214,0.87)', 'rgba(133,206,231,1.45)', 'rgba(59,92,19,1.79)', 'rgba(183,112,126,1.79)', 'rgba(122,246,179,1.26)', 'rgba(15,35,59,1.19)', 'rgba(179,119,222,0.86)', 'rgba(202,31,197,0.97)', 'rgba(90,99,39,1.73)', 'rgba(137,87,76,0.94)', 'rgba(32,43,135,1.77)', 'rgba(201,7,50,1.14)']\n"
     ]
    }
   ],
   "source": [
    "colors = []\n",
    "for i in range(15):\n",
    "    r = random.randint(0,255)\n",
    "    g = random.randint(0,255)\n",
    "    b = random.randint(0,255)\n",
    "    a = random.random() + 0.8\n",
    "    colors.append(\"rgba({:d},{:d},{:d},{:.2f})\".format(r,g,b,a))\n",
    "print(colors)"
   ]
  },
  {
   "cell_type": "code",
   "execution_count": 7,
   "metadata": {},
   "outputs": [
    {
     "name": "stdout",
     "output_type": "stream",
     "text": [
      "['rgb(88,191,205)', 'rgb(79,118,123)', 'rgb(139,48,162)', 'rgb(13,37,154)', 'rgb(180,55,234)', 'rgb(71,72,178)', 'rgb(66,80,227)', 'rgb(77,4,178)', 'rgb(249,64,119)', 'rgb(112,247,29)', 'rgb(206,2,45)', 'rgb(243,20,198)', 'rgb(202,57,72)', 'rgb(38,110,206)', 'rgb(39,123,248)']\n"
     ]
    }
   ],
   "source": [
    "colors = []\n",
    "for i in range(15):\n",
    "    r = random.randint(0,255)\n",
    "    g = random.randint(0,255)\n",
    "    b = random.randint(0,255)\n",
    "    colors.append(\"rgb({:d},{:d},{:d})\".format(r,g,b))\n",
    "print(colors)"
   ]
  },
  {
   "cell_type": "code",
   "execution_count": 12,
   "metadata": {},
   "outputs": [
    {
     "data": {
      "text/plain": [
       "26.0"
      ]
     },
     "execution_count": 12,
     "metadata": {},
     "output_type": "execute_result"
    }
   ],
   "source": [
    "from datetime import datetime\n",
    "\n",
    "(datetime.strptime(\"12-31-2024\", \"%m-%d-%Y\") - datetime.strptime(\"10-20-1998\", \"%m-%d-%Y\")).days // 365.2425"
   ]
  },
  {
   "cell_type": "code",
   "execution_count": 8,
   "metadata": {},
   "outputs": [
    {
     "ename": "FileNotFoundError",
     "evalue": "[Errno 2] No such file or directory: '/Users/timberzhang/Documents/Documents/Long-SimulativeAgents/Code/SimulPaPa/.Users/deb11619-e2d5-3740-b737-f29b45773631/agents/1/activity_hist/02-01-2024.csv'",
     "output_type": "error",
     "traceback": [
      "\u001b[0;31m---------------------------------------------------------------------------\u001b[0m",
      "\u001b[0;31mFileNotFoundError\u001b[0m                         Traceback (most recent call last)",
      "Cell \u001b[0;32mIn[8], line 1\u001b[0m\n\u001b[0;32m----> 1\u001b[0m data \u001b[38;5;241m=\u001b[39m \u001b[43mpd\u001b[49m\u001b[38;5;241;43m.\u001b[39;49m\u001b[43mread_csv\u001b[49m\u001b[43m(\u001b[49m\u001b[38;5;124;43m\"\u001b[39;49m\u001b[38;5;124;43m/Users/timberzhang/Documents/Documents/Long-SimulativeAgents/Code/SimulPaPa/.Users/deb11619-e2d5-3740-b737-f29b45773631/agents/1/activity_hist/02-01-2024.csv\u001b[39;49m\u001b[38;5;124;43m\"\u001b[39;49m\u001b[43m,\u001b[49m\u001b[43m \u001b[49m\u001b[43mdtype\u001b[49m\u001b[38;5;241;43m=\u001b[39;49m\u001b[38;5;28;43mstr\u001b[39;49m\u001b[43m)\u001b[49m\n",
      "File \u001b[0;32m~/anaconda3/envs/sima/lib/python3.10/site-packages/pandas/io/parsers/readers.py:948\u001b[0m, in \u001b[0;36mread_csv\u001b[0;34m(filepath_or_buffer, sep, delimiter, header, names, index_col, usecols, dtype, engine, converters, true_values, false_values, skipinitialspace, skiprows, skipfooter, nrows, na_values, keep_default_na, na_filter, verbose, skip_blank_lines, parse_dates, infer_datetime_format, keep_date_col, date_parser, date_format, dayfirst, cache_dates, iterator, chunksize, compression, thousands, decimal, lineterminator, quotechar, quoting, doublequote, escapechar, comment, encoding, encoding_errors, dialect, on_bad_lines, delim_whitespace, low_memory, memory_map, float_precision, storage_options, dtype_backend)\u001b[0m\n\u001b[1;32m    935\u001b[0m kwds_defaults \u001b[38;5;241m=\u001b[39m _refine_defaults_read(\n\u001b[1;32m    936\u001b[0m     dialect,\n\u001b[1;32m    937\u001b[0m     delimiter,\n\u001b[0;32m   (...)\u001b[0m\n\u001b[1;32m    944\u001b[0m     dtype_backend\u001b[38;5;241m=\u001b[39mdtype_backend,\n\u001b[1;32m    945\u001b[0m )\n\u001b[1;32m    946\u001b[0m kwds\u001b[38;5;241m.\u001b[39mupdate(kwds_defaults)\n\u001b[0;32m--> 948\u001b[0m \u001b[38;5;28;01mreturn\u001b[39;00m \u001b[43m_read\u001b[49m\u001b[43m(\u001b[49m\u001b[43mfilepath_or_buffer\u001b[49m\u001b[43m,\u001b[49m\u001b[43m \u001b[49m\u001b[43mkwds\u001b[49m\u001b[43m)\u001b[49m\n",
      "File \u001b[0;32m~/anaconda3/envs/sima/lib/python3.10/site-packages/pandas/io/parsers/readers.py:611\u001b[0m, in \u001b[0;36m_read\u001b[0;34m(filepath_or_buffer, kwds)\u001b[0m\n\u001b[1;32m    608\u001b[0m _validate_names(kwds\u001b[38;5;241m.\u001b[39mget(\u001b[38;5;124m\"\u001b[39m\u001b[38;5;124mnames\u001b[39m\u001b[38;5;124m\"\u001b[39m, \u001b[38;5;28;01mNone\u001b[39;00m))\n\u001b[1;32m    610\u001b[0m \u001b[38;5;66;03m# Create the parser.\u001b[39;00m\n\u001b[0;32m--> 611\u001b[0m parser \u001b[38;5;241m=\u001b[39m \u001b[43mTextFileReader\u001b[49m\u001b[43m(\u001b[49m\u001b[43mfilepath_or_buffer\u001b[49m\u001b[43m,\u001b[49m\u001b[43m \u001b[49m\u001b[38;5;241;43m*\u001b[39;49m\u001b[38;5;241;43m*\u001b[39;49m\u001b[43mkwds\u001b[49m\u001b[43m)\u001b[49m\n\u001b[1;32m    613\u001b[0m \u001b[38;5;28;01mif\u001b[39;00m chunksize \u001b[38;5;129;01mor\u001b[39;00m iterator:\n\u001b[1;32m    614\u001b[0m     \u001b[38;5;28;01mreturn\u001b[39;00m parser\n",
      "File \u001b[0;32m~/anaconda3/envs/sima/lib/python3.10/site-packages/pandas/io/parsers/readers.py:1448\u001b[0m, in \u001b[0;36mTextFileReader.__init__\u001b[0;34m(self, f, engine, **kwds)\u001b[0m\n\u001b[1;32m   1445\u001b[0m     \u001b[38;5;28mself\u001b[39m\u001b[38;5;241m.\u001b[39moptions[\u001b[38;5;124m\"\u001b[39m\u001b[38;5;124mhas_index_names\u001b[39m\u001b[38;5;124m\"\u001b[39m] \u001b[38;5;241m=\u001b[39m kwds[\u001b[38;5;124m\"\u001b[39m\u001b[38;5;124mhas_index_names\u001b[39m\u001b[38;5;124m\"\u001b[39m]\n\u001b[1;32m   1447\u001b[0m \u001b[38;5;28mself\u001b[39m\u001b[38;5;241m.\u001b[39mhandles: IOHandles \u001b[38;5;241m|\u001b[39m \u001b[38;5;28;01mNone\u001b[39;00m \u001b[38;5;241m=\u001b[39m \u001b[38;5;28;01mNone\u001b[39;00m\n\u001b[0;32m-> 1448\u001b[0m \u001b[38;5;28mself\u001b[39m\u001b[38;5;241m.\u001b[39m_engine \u001b[38;5;241m=\u001b[39m \u001b[38;5;28;43mself\u001b[39;49m\u001b[38;5;241;43m.\u001b[39;49m\u001b[43m_make_engine\u001b[49m\u001b[43m(\u001b[49m\u001b[43mf\u001b[49m\u001b[43m,\u001b[49m\u001b[43m \u001b[49m\u001b[38;5;28;43mself\u001b[39;49m\u001b[38;5;241;43m.\u001b[39;49m\u001b[43mengine\u001b[49m\u001b[43m)\u001b[49m\n",
      "File \u001b[0;32m~/anaconda3/envs/sima/lib/python3.10/site-packages/pandas/io/parsers/readers.py:1705\u001b[0m, in \u001b[0;36mTextFileReader._make_engine\u001b[0;34m(self, f, engine)\u001b[0m\n\u001b[1;32m   1703\u001b[0m     \u001b[38;5;28;01mif\u001b[39;00m \u001b[38;5;124m\"\u001b[39m\u001b[38;5;124mb\u001b[39m\u001b[38;5;124m\"\u001b[39m \u001b[38;5;129;01mnot\u001b[39;00m \u001b[38;5;129;01min\u001b[39;00m mode:\n\u001b[1;32m   1704\u001b[0m         mode \u001b[38;5;241m+\u001b[39m\u001b[38;5;241m=\u001b[39m \u001b[38;5;124m\"\u001b[39m\u001b[38;5;124mb\u001b[39m\u001b[38;5;124m\"\u001b[39m\n\u001b[0;32m-> 1705\u001b[0m \u001b[38;5;28mself\u001b[39m\u001b[38;5;241m.\u001b[39mhandles \u001b[38;5;241m=\u001b[39m \u001b[43mget_handle\u001b[49m\u001b[43m(\u001b[49m\n\u001b[1;32m   1706\u001b[0m \u001b[43m    \u001b[49m\u001b[43mf\u001b[49m\u001b[43m,\u001b[49m\n\u001b[1;32m   1707\u001b[0m \u001b[43m    \u001b[49m\u001b[43mmode\u001b[49m\u001b[43m,\u001b[49m\n\u001b[1;32m   1708\u001b[0m \u001b[43m    \u001b[49m\u001b[43mencoding\u001b[49m\u001b[38;5;241;43m=\u001b[39;49m\u001b[38;5;28;43mself\u001b[39;49m\u001b[38;5;241;43m.\u001b[39;49m\u001b[43moptions\u001b[49m\u001b[38;5;241;43m.\u001b[39;49m\u001b[43mget\u001b[49m\u001b[43m(\u001b[49m\u001b[38;5;124;43m\"\u001b[39;49m\u001b[38;5;124;43mencoding\u001b[39;49m\u001b[38;5;124;43m\"\u001b[39;49m\u001b[43m,\u001b[49m\u001b[43m \u001b[49m\u001b[38;5;28;43;01mNone\u001b[39;49;00m\u001b[43m)\u001b[49m\u001b[43m,\u001b[49m\n\u001b[1;32m   1709\u001b[0m \u001b[43m    \u001b[49m\u001b[43mcompression\u001b[49m\u001b[38;5;241;43m=\u001b[39;49m\u001b[38;5;28;43mself\u001b[39;49m\u001b[38;5;241;43m.\u001b[39;49m\u001b[43moptions\u001b[49m\u001b[38;5;241;43m.\u001b[39;49m\u001b[43mget\u001b[49m\u001b[43m(\u001b[49m\u001b[38;5;124;43m\"\u001b[39;49m\u001b[38;5;124;43mcompression\u001b[39;49m\u001b[38;5;124;43m\"\u001b[39;49m\u001b[43m,\u001b[49m\u001b[43m \u001b[49m\u001b[38;5;28;43;01mNone\u001b[39;49;00m\u001b[43m)\u001b[49m\u001b[43m,\u001b[49m\n\u001b[1;32m   1710\u001b[0m \u001b[43m    \u001b[49m\u001b[43mmemory_map\u001b[49m\u001b[38;5;241;43m=\u001b[39;49m\u001b[38;5;28;43mself\u001b[39;49m\u001b[38;5;241;43m.\u001b[39;49m\u001b[43moptions\u001b[49m\u001b[38;5;241;43m.\u001b[39;49m\u001b[43mget\u001b[49m\u001b[43m(\u001b[49m\u001b[38;5;124;43m\"\u001b[39;49m\u001b[38;5;124;43mmemory_map\u001b[39;49m\u001b[38;5;124;43m\"\u001b[39;49m\u001b[43m,\u001b[49m\u001b[43m \u001b[49m\u001b[38;5;28;43;01mFalse\u001b[39;49;00m\u001b[43m)\u001b[49m\u001b[43m,\u001b[49m\n\u001b[1;32m   1711\u001b[0m \u001b[43m    \u001b[49m\u001b[43mis_text\u001b[49m\u001b[38;5;241;43m=\u001b[39;49m\u001b[43mis_text\u001b[49m\u001b[43m,\u001b[49m\n\u001b[1;32m   1712\u001b[0m \u001b[43m    \u001b[49m\u001b[43merrors\u001b[49m\u001b[38;5;241;43m=\u001b[39;49m\u001b[38;5;28;43mself\u001b[39;49m\u001b[38;5;241;43m.\u001b[39;49m\u001b[43moptions\u001b[49m\u001b[38;5;241;43m.\u001b[39;49m\u001b[43mget\u001b[49m\u001b[43m(\u001b[49m\u001b[38;5;124;43m\"\u001b[39;49m\u001b[38;5;124;43mencoding_errors\u001b[39;49m\u001b[38;5;124;43m\"\u001b[39;49m\u001b[43m,\u001b[49m\u001b[43m \u001b[49m\u001b[38;5;124;43m\"\u001b[39;49m\u001b[38;5;124;43mstrict\u001b[39;49m\u001b[38;5;124;43m\"\u001b[39;49m\u001b[43m)\u001b[49m\u001b[43m,\u001b[49m\n\u001b[1;32m   1713\u001b[0m \u001b[43m    \u001b[49m\u001b[43mstorage_options\u001b[49m\u001b[38;5;241;43m=\u001b[39;49m\u001b[38;5;28;43mself\u001b[39;49m\u001b[38;5;241;43m.\u001b[39;49m\u001b[43moptions\u001b[49m\u001b[38;5;241;43m.\u001b[39;49m\u001b[43mget\u001b[49m\u001b[43m(\u001b[49m\u001b[38;5;124;43m\"\u001b[39;49m\u001b[38;5;124;43mstorage_options\u001b[39;49m\u001b[38;5;124;43m\"\u001b[39;49m\u001b[43m,\u001b[49m\u001b[43m \u001b[49m\u001b[38;5;28;43;01mNone\u001b[39;49;00m\u001b[43m)\u001b[49m\u001b[43m,\u001b[49m\n\u001b[1;32m   1714\u001b[0m \u001b[43m\u001b[49m\u001b[43m)\u001b[49m\n\u001b[1;32m   1715\u001b[0m \u001b[38;5;28;01massert\u001b[39;00m \u001b[38;5;28mself\u001b[39m\u001b[38;5;241m.\u001b[39mhandles \u001b[38;5;129;01mis\u001b[39;00m \u001b[38;5;129;01mnot\u001b[39;00m \u001b[38;5;28;01mNone\u001b[39;00m\n\u001b[1;32m   1716\u001b[0m f \u001b[38;5;241m=\u001b[39m \u001b[38;5;28mself\u001b[39m\u001b[38;5;241m.\u001b[39mhandles\u001b[38;5;241m.\u001b[39mhandle\n",
      "File \u001b[0;32m~/anaconda3/envs/sima/lib/python3.10/site-packages/pandas/io/common.py:863\u001b[0m, in \u001b[0;36mget_handle\u001b[0;34m(path_or_buf, mode, encoding, compression, memory_map, is_text, errors, storage_options)\u001b[0m\n\u001b[1;32m    858\u001b[0m \u001b[38;5;28;01melif\u001b[39;00m \u001b[38;5;28misinstance\u001b[39m(handle, \u001b[38;5;28mstr\u001b[39m):\n\u001b[1;32m    859\u001b[0m     \u001b[38;5;66;03m# Check whether the filename is to be opened in binary mode.\u001b[39;00m\n\u001b[1;32m    860\u001b[0m     \u001b[38;5;66;03m# Binary mode does not support 'encoding' and 'newline'.\u001b[39;00m\n\u001b[1;32m    861\u001b[0m     \u001b[38;5;28;01mif\u001b[39;00m ioargs\u001b[38;5;241m.\u001b[39mencoding \u001b[38;5;129;01mand\u001b[39;00m \u001b[38;5;124m\"\u001b[39m\u001b[38;5;124mb\u001b[39m\u001b[38;5;124m\"\u001b[39m \u001b[38;5;129;01mnot\u001b[39;00m \u001b[38;5;129;01min\u001b[39;00m ioargs\u001b[38;5;241m.\u001b[39mmode:\n\u001b[1;32m    862\u001b[0m         \u001b[38;5;66;03m# Encoding\u001b[39;00m\n\u001b[0;32m--> 863\u001b[0m         handle \u001b[38;5;241m=\u001b[39m \u001b[38;5;28;43mopen\u001b[39;49m\u001b[43m(\u001b[49m\n\u001b[1;32m    864\u001b[0m \u001b[43m            \u001b[49m\u001b[43mhandle\u001b[49m\u001b[43m,\u001b[49m\n\u001b[1;32m    865\u001b[0m \u001b[43m            \u001b[49m\u001b[43mioargs\u001b[49m\u001b[38;5;241;43m.\u001b[39;49m\u001b[43mmode\u001b[49m\u001b[43m,\u001b[49m\n\u001b[1;32m    866\u001b[0m \u001b[43m            \u001b[49m\u001b[43mencoding\u001b[49m\u001b[38;5;241;43m=\u001b[39;49m\u001b[43mioargs\u001b[49m\u001b[38;5;241;43m.\u001b[39;49m\u001b[43mencoding\u001b[49m\u001b[43m,\u001b[49m\n\u001b[1;32m    867\u001b[0m \u001b[43m            \u001b[49m\u001b[43merrors\u001b[49m\u001b[38;5;241;43m=\u001b[39;49m\u001b[43merrors\u001b[49m\u001b[43m,\u001b[49m\n\u001b[1;32m    868\u001b[0m \u001b[43m            \u001b[49m\u001b[43mnewline\u001b[49m\u001b[38;5;241;43m=\u001b[39;49m\u001b[38;5;124;43m\"\u001b[39;49m\u001b[38;5;124;43m\"\u001b[39;49m\u001b[43m,\u001b[49m\n\u001b[1;32m    869\u001b[0m \u001b[43m        \u001b[49m\u001b[43m)\u001b[49m\n\u001b[1;32m    870\u001b[0m     \u001b[38;5;28;01melse\u001b[39;00m:\n\u001b[1;32m    871\u001b[0m         \u001b[38;5;66;03m# Binary mode\u001b[39;00m\n\u001b[1;32m    872\u001b[0m         handle \u001b[38;5;241m=\u001b[39m \u001b[38;5;28mopen\u001b[39m(handle, ioargs\u001b[38;5;241m.\u001b[39mmode)\n",
      "\u001b[0;31mFileNotFoundError\u001b[0m: [Errno 2] No such file or directory: '/Users/timberzhang/Documents/Documents/Long-SimulativeAgents/Code/SimulPaPa/.Users/deb11619-e2d5-3740-b737-f29b45773631/agents/1/activity_hist/02-01-2024.csv'"
     ]
    }
   ],
   "source": [
    "data = pd.read_csv(\"/Users/timberzhang/Documents/Documents/Long-SimulativeAgents/Code/SimulPaPa/.Users/deb11619-e2d5-3740-b737-f29b45773631/agents/1/activity_hist/02-01-2024.csv\", dtype=str)"
   ]
  },
  {
   "cell_type": "code",
   "execution_count": 38,
   "metadata": {},
   "outputs": [
    {
     "data": {
      "text/html": [
       "<div>\n",
       "<style scoped>\n",
       "    .dataframe tbody tr th:only-of-type {\n",
       "        vertical-align: middle;\n",
       "    }\n",
       "\n",
       "    .dataframe tbody tr th {\n",
       "        vertical-align: top;\n",
       "    }\n",
       "\n",
       "    .dataframe thead th {\n",
       "        text-align: right;\n",
       "    }\n",
       "</style>\n",
       "<table border=\"1\" class=\"dataframe\">\n",
       "  <thead>\n",
       "    <tr style=\"text-align: right;\">\n",
       "      <th></th>\n",
       "      <th>time</th>\n",
       "      <th>activity</th>\n",
       "      <th>event</th>\n",
       "      <th>location</th>\n",
       "      <th>longitude</th>\n",
       "      <th>latitude</th>\n",
       "      <th>heartrate</th>\n",
       "      <th>chatbot</th>\n",
       "      <th>catalogue</th>\n",
       "    </tr>\n",
       "  </thead>\n",
       "  <tbody>\n",
       "    <tr>\n",
       "      <th>0</th>\n",
       "      <td>02-01-2024 07:00</td>\n",
       "      <td>Waking up</td>\n",
       "      <td>Morning routine</td>\n",
       "      <td>The Foundry at 41st, Butler Street, Lawrencevi...</td>\n",
       "      <td>-79.965202</td>\n",
       "      <td>40.465306</td>\n",
       "      <td>60</td>\n",
       "      <td>NaN</td>\n",
       "      <td>Personal care activities</td>\n",
       "    </tr>\n",
       "    <tr>\n",
       "      <th>1</th>\n",
       "      <td>02-01-2024 07:01</td>\n",
       "      <td>Stretching</td>\n",
       "      <td>Morning routine</td>\n",
       "      <td>The Foundry at 41st, Butler Street, Lawrencevi...</td>\n",
       "      <td>-79.965202</td>\n",
       "      <td>40.465306</td>\n",
       "      <td>60</td>\n",
       "      <td>NaN</td>\n",
       "      <td>Leisure and sports</td>\n",
       "    </tr>\n",
       "    <tr>\n",
       "      <th>2</th>\n",
       "      <td>02-01-2024 07:02</td>\n",
       "      <td>Stretching</td>\n",
       "      <td>Morning routine</td>\n",
       "      <td>The Foundry at 41st, Butler Street, Lawrencevi...</td>\n",
       "      <td>-79.965202</td>\n",
       "      <td>40.465306</td>\n",
       "      <td>60</td>\n",
       "      <td>NaN</td>\n",
       "      <td>Leisure and sports</td>\n",
       "    </tr>\n",
       "    <tr>\n",
       "      <th>3</th>\n",
       "      <td>02-01-2024 07:03</td>\n",
       "      <td>Making the bed</td>\n",
       "      <td>Morning routine</td>\n",
       "      <td>The Foundry at 41st, Butler Street, Lawrencevi...</td>\n",
       "      <td>-79.965202</td>\n",
       "      <td>40.465306</td>\n",
       "      <td>60</td>\n",
       "      <td>NaN</td>\n",
       "      <td>Household activities</td>\n",
       "    </tr>\n",
       "    <tr>\n",
       "      <th>4</th>\n",
       "      <td>02-01-2024 07:04</td>\n",
       "      <td>Making the bed</td>\n",
       "      <td>Morning routine</td>\n",
       "      <td>The Foundry at 41st, Butler Street, Lawrencevi...</td>\n",
       "      <td>-79.965202</td>\n",
       "      <td>40.465306</td>\n",
       "      <td>60</td>\n",
       "      <td>NaN</td>\n",
       "      <td>Household activities</td>\n",
       "    </tr>\n",
       "  </tbody>\n",
       "</table>\n",
       "</div>"
      ],
      "text/plain": [
       "               time        activity            event  \\\n",
       "0  02-01-2024 07:00       Waking up  Morning routine   \n",
       "1  02-01-2024 07:01      Stretching  Morning routine   \n",
       "2  02-01-2024 07:02      Stretching  Morning routine   \n",
       "3  02-01-2024 07:03  Making the bed  Morning routine   \n",
       "4  02-01-2024 07:04  Making the bed  Morning routine   \n",
       "\n",
       "                                            location   longitude   latitude  \\\n",
       "0  The Foundry at 41st, Butler Street, Lawrencevi...  -79.965202  40.465306   \n",
       "1  The Foundry at 41st, Butler Street, Lawrencevi...  -79.965202  40.465306   \n",
       "2  The Foundry at 41st, Butler Street, Lawrencevi...  -79.965202  40.465306   \n",
       "3  The Foundry at 41st, Butler Street, Lawrencevi...  -79.965202  40.465306   \n",
       "4  The Foundry at 41st, Butler Street, Lawrencevi...  -79.965202  40.465306   \n",
       "\n",
       "  heartrate chatbot                   catalogue  \n",
       "0        60     NaN  Personal care activities  \n",
       "1        60     NaN        Leisure and sports  \n",
       "2        60     NaN        Leisure and sports  \n",
       "3        60     NaN      Household activities  \n",
       "4        60     NaN      Household activities  "
      ]
     },
     "execution_count": 38,
     "metadata": {},
     "output_type": "execute_result"
    }
   ],
   "source": [
    "data.head()"
   ]
  },
  {
   "cell_type": "code",
   "execution_count": 40,
   "metadata": {},
   "outputs": [
    {
     "data": {
      "text/plain": [
       "0                         Personal care activities\n",
       "1                               Leisure and sports\n",
       "2                               Leisure and sports\n",
       "3                             Household activities\n",
       "4                             Household activities\n",
       "                           ...                    \n",
       "1015    Other activities, not elsewhere classified\n",
       "1016    Other activities, not elsewhere classified\n",
       "1017    Other activities, not elsewhere classified\n",
       "1018    Other activities, not elsewhere classified\n",
       "1019    Other activities, not elsewhere classified\n",
       "Name: catalogue, Length: 1020, dtype: object"
      ]
     },
     "execution_count": 40,
     "metadata": {},
     "output_type": "execute_result"
    }
   ],
   "source": [
    "data[\"catalogue\"]"
   ]
  },
  {
   "cell_type": "code",
   "execution_count": 13,
   "metadata": {},
   "outputs": [
    {
     "data": {
      "text/plain": [
       "{'02-01-2024 07:00': {'time': '02-01-2024 07:00',\n",
       "  'activity': 'Waking up',\n",
       "  'event': 'Morning routine',\n",
       "  'location': 'The Foundry at 41st, Butler Street, Lawrenceville, Pittsburgh, Pennsylvania, 15201',\n",
       "  'longitude': -79.965202,\n",
       "  'latitude': 40.465306,\n",
       "  'heartrate': 60,\n",
       "  'chatbot': nan,\n",
       "  'catalogue': 'Personal care activities'},\n",
       " '02-01-2024 07:01': {'time': '02-01-2024 07:01',\n",
       "  'activity': 'Stretching',\n",
       "  'event': 'Morning routine',\n",
       "  'location': 'The Foundry at 41st, Butler Street, Lawrenceville, Pittsburgh, Pennsylvania, 15201',\n",
       "  'longitude': -79.965202,\n",
       "  'latitude': 40.465306,\n",
       "  'heartrate': 60,\n",
       "  'chatbot': nan,\n",
       "  'catalogue': 'Leisure and sports'},\n",
       " '02-01-2024 07:02': {'time': '02-01-2024 07:02',\n",
       "  'activity': 'Stretching',\n",
       "  'event': 'Morning routine',\n",
       "  'location': 'The Foundry at 41st, Butler Street, Lawrenceville, Pittsburgh, Pennsylvania, 15201',\n",
       "  'longitude': -79.965202,\n",
       "  'latitude': 40.465306,\n",
       "  'heartrate': 60,\n",
       "  'chatbot': nan,\n",
       "  'catalogue': 'Leisure and sports'},\n",
       " '02-01-2024 07:03': {'time': '02-01-2024 07:03',\n",
       "  'activity': 'Making the bed',\n",
       "  'event': 'Morning routine',\n",
       "  'location': 'The Foundry at 41st, Butler Street, Lawrenceville, Pittsburgh, Pennsylvania, 15201',\n",
       "  'longitude': -79.965202,\n",
       "  'latitude': 40.465306,\n",
       "  'heartrate': 60,\n",
       "  'chatbot': nan,\n",
       "  'catalogue': 'Household activities'},\n",
       " '02-01-2024 07:04': {'time': '02-01-2024 07:04',\n",
       "  'activity': 'Making the bed',\n",
       "  'event': 'Morning routine',\n",
       "  'location': 'The Foundry at 41st, Butler Street, Lawrenceville, Pittsburgh, Pennsylvania, 15201',\n",
       "  'longitude': -79.965202,\n",
       "  'latitude': 40.465306,\n",
       "  'heartrate': 60,\n",
       "  'chatbot': nan,\n",
       "  'catalogue': 'Household activities'}}"
      ]
     },
     "execution_count": 13,
     "metadata": {},
     "output_type": "execute_result"
    }
   ],
   "source": [
    "data.head().T.to_dict()"
   ]
  },
  {
   "cell_type": "code",
   "execution_count": 24,
   "metadata": {},
   "outputs": [
    {
     "data": {
      "text/plain": [
       "['03-01-2024.csv']"
      ]
     },
     "execution_count": 24,
     "metadata": {},
     "output_type": "execute_result"
    }
   ],
   "source": [
    "import os\n",
    "os.listdir(\"/Users/timberzhang/Documents/Documents/Long-SimulativeAgents/Code/SimulPaPa/.Users/ad458d15-76fa-3cd2-827c-2838c0e24a8b/agents/1/activity_hist\")"
   ]
  },
  {
   "cell_type": "code",
   "execution_count": 10,
   "metadata": {},
   "outputs": [
    {
     "data": {
      "text/plain": [
       "longitude\n",
       "-79.998232    240\n",
       "-79.995894    150\n",
       "-79.995720    150\n",
       "-80.002018     80\n",
       "-79.953640     75\n",
       "-79.962484     60\n",
       "-79.996261     60\n",
       "-79.969396     58\n",
       "-79.965202     30\n",
       "-79.995900     30\n",
       "-79.964190     21\n",
       "-79.964487     18\n",
       "-79.983771     17\n",
       "-80.003811     12\n",
       "-80.004168     10\n",
       "-79.997050      9\n",
       "Name: count, dtype: int64"
      ]
     },
     "execution_count": 10,
     "metadata": {},
     "output_type": "execute_result"
    }
   ],
   "source": [
    "data[data[\"longitude\"].notna()]['longitude'].value_counts()"
   ]
  },
  {
   "cell_type": "code",
   "execution_count": 11,
   "metadata": {},
   "outputs": [
    {
     "name": "stdout",
     "output_type": "stream",
     "text": [
      "02-01-2024 20:00 02-01-2024 20:09\n",
      "02-01-2024 07:48 02-01-2024 07:59\n",
      "02-01-2024 20:10 02-01-2024 21:29\n",
      "02-01-2024 13:00 02-01-2024 16:59\n",
      "02-01-2024 09:21 02-01-2024 09:29\n",
      "02-01-2024 12:00 02-01-2024 12:59\n",
      "02-01-2024 17:00 02-01-2024 17:29\n",
      "02-01-2024 09:30 02-01-2024 11:59\n",
      "02-01-2024 17:30 02-01-2024 19:59\n",
      "02-01-2024 23:11 02-01-2024 23:27\n",
      "02-01-2024 22:45 02-01-2024 23:59\n",
      "02-01-2024 07:00 02-01-2024 07:29\n",
      "02-01-2024 07:30 02-01-2024 07:47\n",
      "02-01-2024 09:00 02-01-2024 09:20\n",
      "02-01-2024 08:00 02-01-2024 08:59\n",
      "02-01-2024 21:30 02-01-2024 22:44\n"
     ]
    },
    {
     "name": "stderr",
     "output_type": "stream",
     "text": [
      "/var/folders/rp/3xmh9dds7tl2vhpb6h3ntl1r0000gn/T/ipykernel_29698/2076751905.py:2: FutureWarning: The 'axis' keyword in DataFrame.groupby is deprecated and will be removed in a future version.\n",
      "  for idx, (loc, group) in enumerate(data.groupby(by=[\"longitude\",\"latitude\"], axis=0)):\n"
     ]
    }
   ],
   "source": [
    "loc_hist = {}\n",
    "for idx, (loc, group) in enumerate(data.groupby(by=[\"longitude\",\"latitude\"], axis=0)):\n",
    "    date_strings = group.loc[:, 'time'].to_list()\n",
    "    dates = [datetime.strptime(date_str, '%m-%d-%Y %H:%M') for date_str in date_strings]\n",
    "    sorted_dates = sorted(dates)\n",
    "    sorted_date_strings = [datetime.strftime(date_obj, '%m-%d-%Y %H:%M') for date_obj in sorted_dates]\n",
    "    print(sorted_date_strings[0], sorted_date_strings[-1])\n",
    "\n",
    "    _temp = {\n",
    "        \"location\" : list(group['location'].value_counts().index),\n",
    "        \"longitude\" : loc[0],\n",
    "        \"latitude\" : loc[1],\n",
    "    }\n",
    "    loc_hist[idx] = _temp"
   ]
  },
  {
   "cell_type": "code",
   "execution_count": 19,
   "metadata": {},
   "outputs": [],
   "source": [
    "schedule = []\n",
    "for idx, (event, group) in enumerate(data.groupby(by=[\"event\"])):\n",
    "    date_strings = group.loc[:, 'time'].to_list()\n",
    "    dates = [datetime.strptime(date_str, '%m-%d-%Y %H:%M') for date_str in date_strings]\n",
    "    sorted_dates = sorted(dates)\n",
    "    sorted_date_strings = [datetime.strftime(date_obj, '%m-%d-%Y %H:%M') for date_obj in sorted_dates]\n",
    "    event_start = sorted_date_strings[0][-5:]\n",
    "    event_end = sorted_date_strings[-1][-5:]\n",
    "\n",
    "    activities = []\n",
    "    for idx_2, (activity, group_2) in enumerate(group.groupby(by=[\"activity\"])):\n",
    "        date_strings = group_2.loc[:, 'time'].to_list()\n",
    "        dates = [datetime.strptime(date_str, '%m-%d-%Y %H:%M') for date_str in date_strings]\n",
    "        sorted_dates = sorted(dates)\n",
    "        sorted_date_strings = [datetime.strftime(date_obj, '%m-%d-%Y %H:%M') for date_obj in sorted_dates]\n",
    "        activity_start = sorted_date_strings[0][-5:]\n",
    "        activity_end = sorted_date_strings[-1][-5:]\n",
    "\n",
    "        activities.append({\n",
    "            \"activity\":activity[0],\n",
    "            \"start_time\":activity_start,\n",
    "            \"end_time\":activity_end\n",
    "        })\n",
    "\n",
    "    _temp = {\n",
    "        \"event\" : event[0],\n",
    "        \"start_time\" : event_start,\n",
    "        \"end_time\" : event_end,\n",
    "        \"activities\" : activities\n",
    "    }\n",
    "    schedule.append(_temp)"
   ]
  },
  {
   "cell_type": "code",
   "execution_count": 27,
   "metadata": {},
   "outputs": [],
   "source": [
    "schedule = []\n",
    "\n",
    "cur_event = data[\"event\"][0]\n",
    "event_start_time = data[\"time\"][0]\n",
    "cur_activity = data[\"activity\"][0]\n",
    "activity_start_time = data[\"time\"][0]\n",
    "last_time = \"\"\n",
    "activities = []\n",
    "for idx, row in data.iterrows():\n",
    "    if not cur_activity==row[\"activity\"]:\n",
    "        activities.append({\n",
    "            \"activity\": cur_activity,\n",
    "            \"start_time\" : activity_start_time,\n",
    "            \"end_time\" : last_time\n",
    "        })\n",
    "        cur_activity = row[\"activity\"]\n",
    "        activity_start_time = row[\"time\"]\n",
    "\n",
    "    if not cur_event==row[\"event\"]:\n",
    "        schedule.append({\n",
    "            \"event\": cur_event,\n",
    "            \"start_time\" : event_start_time,\n",
    "            \"end_time\" : last_time,\n",
    "            \"activities\" : activities\n",
    "        })\n",
    "        cur_event = row[\"event\"]\n",
    "        event_start_time = row[\"time\"]\n",
    "        activities = []\n",
    "    \n",
    "\n",
    "    last_time = row[\"time\"]"
   ]
  },
  {
   "cell_type": "code",
   "execution_count": 28,
   "metadata": {},
   "outputs": [
    {
     "data": {
      "text/plain": [
       "[{'event': 'Morning routine',\n",
       "  'start_time': '02-01-2024 07:00',\n",
       "  'end_time': '02-01-2024 07:14',\n",
       "  'activities': [{'activity': 'Waking up',\n",
       "    'start_time': '02-01-2024 07:00',\n",
       "    'end_time': '02-01-2024 07:00'},\n",
       "   {'activity': 'Stretching',\n",
       "    'start_time': '02-01-2024 07:01',\n",
       "    'end_time': '02-01-2024 07:02'},\n",
       "   {'activity': 'Making the bed',\n",
       "    'start_time': '02-01-2024 07:03',\n",
       "    'end_time': '02-01-2024 07:04'},\n",
       "   {'activity': 'Brushing teeth',\n",
       "    'start_time': '02-01-2024 07:05',\n",
       "    'end_time': '02-01-2024 07:07'},\n",
       "   {'activity': 'Washing face',\n",
       "    'start_time': '02-01-2024 07:08',\n",
       "    'end_time': '02-01-2024 07:09'},\n",
       "   {'activity': 'Dressing up',\n",
       "    'start_time': '02-01-2024 07:10',\n",
       "    'end_time': '02-01-2024 07:11'},\n",
       "   {'activity': 'Preparing breakfast',\n",
       "    'start_time': '02-01-2024 07:12',\n",
       "    'end_time': '02-01-2024 07:14'}]},\n",
       " {'event': 'Stretching exercise',\n",
       "  'start_time': '02-01-2024 07:15',\n",
       "  'end_time': '02-01-2024 07:29',\n",
       "  'activities': [{'activity': 'Stretching exercise',\n",
       "    'start_time': '02-01-2024 07:15',\n",
       "    'end_time': '02-01-2024 07:29'}]},\n",
       " {'event': 'Breakfast',\n",
       "  'start_time': '02-01-2024 07:30',\n",
       "  'end_time': '02-01-2024 07:59',\n",
       "  'activities': [{'activity': 'Waking up',\n",
       "    'start_time': '02-01-2024 07:30',\n",
       "    'end_time': '02-01-2024 07:30'},\n",
       "   {'activity': 'Stretching',\n",
       "    'start_time': '02-01-2024 07:31',\n",
       "    'end_time': '02-01-2024 07:35'},\n",
       "   {'activity': 'Making the bed',\n",
       "    'start_time': '02-01-2024 07:36',\n",
       "    'end_time': '02-01-2024 07:37'},\n",
       "   {'activity': 'Brushing teeth',\n",
       "    'start_time': '02-01-2024 07:38',\n",
       "    'end_time': '02-01-2024 07:40'},\n",
       "   {'activity': 'Washing face',\n",
       "    'start_time': '02-01-2024 07:41',\n",
       "    'end_time': '02-01-2024 07:42'},\n",
       "   {'activity': 'Dressing up',\n",
       "    'start_time': '02-01-2024 07:43',\n",
       "    'end_time': '02-01-2024 07:47'},\n",
       "   {'activity': 'Preparing breakfast',\n",
       "    'start_time': '02-01-2024 07:48',\n",
       "    'end_time': '02-01-2024 07:59'}]},\n",
       " {'event': 'Read inspirational book',\n",
       "  'start_time': '02-01-2024 08:00',\n",
       "  'end_time': '02-01-2024 08:59',\n",
       "  'activities': [{'activity': 'Preparing a cup of coffee or tea',\n",
       "    'start_time': '02-01-2024 08:00',\n",
       "    'end_time': '02-01-2024 08:04'},\n",
       "   {'activity': 'Finding a comfortable place to sit',\n",
       "    'start_time': '02-01-2024 08:05',\n",
       "    'end_time': '02-01-2024 08:07'},\n",
       "   {'activity': 'Opening the book and starting to read',\n",
       "    'start_time': '02-01-2024 08:08',\n",
       "    'end_time': '02-01-2024 08:52'},\n",
       "   {'activity': 'Taking a short break and stretching',\n",
       "    'start_time': '02-01-2024 08:53',\n",
       "    'end_time': '02-01-2024 08:54'},\n",
       "   {'activity': 'Continuing to read the book',\n",
       "    'start_time': '02-01-2024 08:55',\n",
       "    'end_time': '02-01-2024 08:59'}]},\n",
       " {'event': 'Commute (to office)',\n",
       "  'start_time': '02-01-2024 09:00',\n",
       "  'end_time': '02-01-2024 09:29',\n",
       "  'activities': [{'activity': 'Checking the route on a smartphone GPS',\n",
       "    'start_time': '02-01-2024 09:00',\n",
       "    'end_time': '02-01-2024 09:00'},\n",
       "   {'activity': 'Walking to the car or transit stop',\n",
       "    'start_time': '02-01-2024 09:01',\n",
       "    'end_time': '02-01-2024 09:05'},\n",
       "   {'activity': 'Sitting in a car or on public transport',\n",
       "    'start_time': '02-01-2024 09:06',\n",
       "    'end_time': '02-01-2024 09:20'},\n",
       "   {'activity': 'Walking to the office',\n",
       "    'start_time': '02-01-2024 09:21',\n",
       "    'end_time': '02-01-2024 09:24'},\n",
       "   {'activity': 'Entering the office',\n",
       "    'start_time': '02-01-2024 09:25',\n",
       "    'end_time': '02-01-2024 09:25'}]},\n",
       " {'event': 'Work at Pittsburgh Blue',\n",
       "  'start_time': '02-01-2024 09:30',\n",
       "  'end_time': '02-01-2024 11:59',\n",
       "  'activities': [{'activity': 'Walking to chair and sitting down',\n",
       "    'start_time': '02-01-2024 09:26',\n",
       "    'end_time': '02-01-2024 09:30'},\n",
       "   {'activity': 'Turning on the computer and checking emails',\n",
       "    'start_time': '02-01-2024 09:31',\n",
       "    'end_time': '02-01-2024 09:40'},\n",
       "   {'activity': 'Reviewing schedule and tasks for the day',\n",
       "    'start_time': '02-01-2024 09:41',\n",
       "    'end_time': '02-01-2024 09:45'},\n",
       "   {'activity': 'Working on daily report',\n",
       "    'start_time': '02-01-2024 09:46',\n",
       "    'end_time': '02-01-2024 10:45'},\n",
       "   {'activity': 'Attending a team meeting',\n",
       "    'start_time': '02-01-2024 10:46',\n",
       "    'end_time': '02-01-2024 11:15'},\n",
       "   {'activity': 'Collaborating with colleagues on a project',\n",
       "    'start_time': '02-01-2024 11:16',\n",
       "    'end_time': '02-01-2024 11:59'}]},\n",
       " {'event': 'Lunch',\n",
       "  'start_time': '02-01-2024 12:00',\n",
       "  'end_time': '02-01-2024 12:59',\n",
       "  'activities': [{'activity': 'Walking to the cafeteria',\n",
       "    'start_time': '02-01-2024 12:00',\n",
       "    'end_time': '02-01-2024 12:01'},\n",
       "   {'activity': 'Choosing a seat and getting utensils',\n",
       "    'start_time': '02-01-2024 12:02',\n",
       "    'end_time': '02-01-2024 12:03'},\n",
       "   {'activity': 'Serving food onto a tray',\n",
       "    'start_time': '02-01-2024 12:04',\n",
       "    'end_time': '02-01-2024 12:06'},\n",
       "   {'activity': 'Finding a table and sitting down',\n",
       "    'start_time': '02-01-2024 12:07',\n",
       "    'end_time': '02-01-2024 12:07'},\n",
       "   {'activity': 'Eating lunch',\n",
       "    'start_time': '02-01-2024 12:08',\n",
       "    'end_time': '02-01-2024 12:37'},\n",
       "   {'activity': 'Cleaning up the table and tray',\n",
       "    'start_time': '02-01-2024 12:38',\n",
       "    'end_time': '02-01-2024 12:39'},\n",
       "   {'activity': 'Returning utensils and tray',\n",
       "    'start_time': '02-01-2024 12:40',\n",
       "    'end_time': '02-01-2024 12:41'},\n",
       "   {'activity': 'Walking back to officedesk',\n",
       "    'start_time': '02-01-2024 12:42',\n",
       "    'end_time': '02-01-2024 12:59'}]},\n",
       " {'event': 'Work at Pittsburgh Blue',\n",
       "  'start_time': '02-01-2024 13:00',\n",
       "  'end_time': '02-01-2024 16:59',\n",
       "  'activities': [{'activity': 'Picking up task list and organizing materials',\n",
       "    'start_time': '02-01-2024 13:00',\n",
       "    'end_time': '02-01-2024 13:04'},\n",
       "   {'activity': 'Checking emails and messages',\n",
       "    'start_time': '02-01-2024 13:05',\n",
       "    'end_time': '02-01-2024 13:19'},\n",
       "   {'activity': 'Reviewing work schedule and assignments',\n",
       "    'start_time': '02-01-2024 13:20',\n",
       "    'end_time': '02-01-2024 13:29'},\n",
       "   {'activity': 'Preparing work materials and tools',\n",
       "    'start_time': '02-01-2024 13:30',\n",
       "    'end_time': '02-01-2024 13:39'},\n",
       "   {'activity': 'Cleaning and organizing work area',\n",
       "    'start_time': '02-01-2024 13:40',\n",
       "    'end_time': '02-01-2024 13:54'},\n",
       "   {'activity': 'Engaging team members to discuss tasks and priorities',\n",
       "    'start_time': '02-01-2024 13:55',\n",
       "    'end_time': '02-01-2024 14:14'},\n",
       "   {'activity': 'Attending a team meeting',\n",
       "    'start_time': '02-01-2024 14:15',\n",
       "    'end_time': '02-01-2024 14:44'},\n",
       "   {'activity': 'Brainstorming and problem-solving with team members',\n",
       "    'start_time': '02-01-2024 14:45',\n",
       "    'end_time': '02-01-2024 15:14'},\n",
       "   {'activity': 'Checking and processing work-related documents',\n",
       "    'start_time': '02-01-2024 15:15',\n",
       "    'end_time': '02-01-2024 15:34'},\n",
       "   {'activity': 'Communicating with customers or clients',\n",
       "    'start_time': '02-01-2024 15:35',\n",
       "    'end_time': '02-01-2024 16:04'},\n",
       "   {'activity': 'Completing administrative tasks and paperwork',\n",
       "    'start_time': '02-01-2024 16:05',\n",
       "    'end_time': '02-01-2024 16:44'}]},\n",
       " {'event': 'Afternoon tea break',\n",
       "  'start_time': '02-01-2024 17:00',\n",
       "  'end_time': '02-01-2024 17:29',\n",
       "  'activities': [{'activity': 'Reviewing financial statements and reports',\n",
       "    'start_time': '02-01-2024 16:45',\n",
       "    'end_time': '02-01-2024 17:29'}]},\n",
       " {'event': 'Work at Pittsburgh Blue',\n",
       "  'start_time': '02-01-2024 17:30',\n",
       "  'end_time': '02-01-2024 19:59',\n",
       "  'activities': [{'activity': 'Sitting at officedesk',\n",
       "    'start_time': '02-01-2024 17:30',\n",
       "    'end_time': '02-01-2024 19:59'}]},\n",
       " {'event': 'Dinner with colleagues',\n",
       "  'start_time': '02-01-2024 20:00',\n",
       "  'end_time': '02-01-2024 21:29',\n",
       "  'activities': [{'activity': 'Getting ready for dinner',\n",
       "    'start_time': '02-01-2024 20:00',\n",
       "    'end_time': '02-01-2024 20:09'},\n",
       "   {'activity': 'Traveling to the restaurant',\n",
       "    'start_time': '02-01-2024 20:10',\n",
       "    'end_time': '02-01-2024 20:29'},\n",
       "   {'activity': 'Greetings and small talk with colleagues',\n",
       "    'start_time': '02-01-2024 20:30',\n",
       "    'end_time': '02-01-2024 20:39'},\n",
       "   {'activity': 'Ordering food and drinks',\n",
       "    'start_time': '02-01-2024 20:40',\n",
       "    'end_time': '02-01-2024 20:40'},\n",
       "   {'activity': 'Socializing with colleagues',\n",
       "    'start_time': '02-01-2024 20:41',\n",
       "    'end_time': '02-01-2024 21:29'}]},\n",
       " {'event': 'Relaxation time',\n",
       "  'start_time': '02-01-2024 21:30',\n",
       "  'end_time': '02-01-2024 22:29',\n",
       "  'activities': [{'activity': 'Listening to music',\n",
       "    'start_time': '02-01-2024 21:30',\n",
       "    'end_time': '02-01-2024 21:39'},\n",
       "   {'activity': 'Reading a book',\n",
       "    'start_time': '02-01-2024 21:40',\n",
       "    'end_time': '02-01-2024 21:59'},\n",
       "   {'activity': 'Meditation',\n",
       "    'start_time': '02-01-2024 22:00',\n",
       "    'end_time': '02-01-2024 22:14'},\n",
       "   {'activity': 'Taking a warm bath',\n",
       "    'start_time': '02-01-2024 22:15',\n",
       "    'end_time': '02-01-2024 22:24'},\n",
       "   {'activity': 'Journaling',\n",
       "    'start_time': '02-01-2024 22:25',\n",
       "    'end_time': '02-01-2024 22:29'}]},\n",
       " {'event': 'Preparation for sleep',\n",
       "  'start_time': '02-01-2024 22:30',\n",
       "  'end_time': '02-01-2024 22:44',\n",
       "  'activities': [{'activity': 'Preparation for sleep',\n",
       "    'start_time': '02-01-2024 22:30',\n",
       "    'end_time': '02-01-2024 22:44'}]}]"
      ]
     },
     "execution_count": 28,
     "metadata": {},
     "output_type": "execute_result"
    }
   ],
   "source": [
    "schedule"
   ]
  },
  {
   "cell_type": "code",
   "execution_count": 14,
   "metadata": {},
   "outputs": [
    {
     "data": {
      "text/plain": [
       "([<matplotlib.axis.XTick at 0x11f66bf70>,\n",
       "  <matplotlib.axis.XTick at 0x11f66bf40>,\n",
       "  <matplotlib.axis.XTick at 0x11f66b700>,\n",
       "  <matplotlib.axis.XTick at 0x12a0cc580>,\n",
       "  <matplotlib.axis.XTick at 0x12a0cd030>,\n",
       "  <matplotlib.axis.XTick at 0x11f668bb0>,\n",
       "  <matplotlib.axis.XTick at 0x12a0cddb0>,\n",
       "  <matplotlib.axis.XTick at 0x12a0ce860>,\n",
       "  <matplotlib.axis.XTick at 0x12a0cf310>,\n",
       "  <matplotlib.axis.XTick at 0x12a0cfdc0>,\n",
       "  <matplotlib.axis.XTick at 0x12a0ceaa0>,\n",
       "  <matplotlib.axis.XTick at 0x12a0e4850>,\n",
       "  <matplotlib.axis.XTick at 0x12a0e5300>],\n",
       " [Text(0, 0, '0'),\n",
       "  Text(120, 0, '2'),\n",
       "  Text(240, 0, '4'),\n",
       "  Text(360, 0, '6'),\n",
       "  Text(480, 0, '8'),\n",
       "  Text(600, 0, '10'),\n",
       "  Text(720, 0, '12'),\n",
       "  Text(840, 0, '14'),\n",
       "  Text(960, 0, '16'),\n",
       "  Text(1080, 0, '18'),\n",
       "  Text(1200, 0, '20'),\n",
       "  Text(1320, 0, '22'),\n",
       "  Text(1440, 0, '24')])"
      ]
     },
     "execution_count": 14,
     "metadata": {},
     "output_type": "execute_result"
    },
    {
     "data": {
      "image/png": "[encoded data removed]",
      "text/plain": [
       "<Figure size 640x480 with 1 Axes>"
      ]
     },
     "metadata": {},
     "output_type": "display_data"
    }
   ],
   "source": [
    "plt.plot(data['heartrate'].astype(float))\n",
    "plt.xticks([120 * i for i in range(13)], [2 * i for i in range(13)])"
   ]
  },
  {
   "cell_type": "code",
   "execution_count": 70,
   "metadata": {},
   "outputs": [],
   "source": [
    "data_2 = pd.read_csv(\".Users/19d7bf69-7fdc-3648-9c87-9bfca20611c2/activity_hist/test/12-01-2023.csv\")\n",
    "# data_2 = data_2[data_2[\"date\"]==12062023]"
   ]
  },
  {
   "cell_type": "code",
   "execution_count": 86,
   "metadata": {},
   "outputs": [
    {
     "data": {
      "text/html": [
       "<div>\n",
       "<style scoped>\n",
       "    .dataframe tbody tr th:only-of-type {\n",
       "        vertical-align: middle;\n",
       "    }\n",
       "\n",
       "    .dataframe tbody tr th {\n",
       "        vertical-align: top;\n",
       "    }\n",
       "\n",
       "    .dataframe thead th {\n",
       "        text-align: right;\n",
       "    }\n",
       "</style>\n",
       "<table border=\"1\" class=\"dataframe\">\n",
       "  <thead>\n",
       "    <tr style=\"text-align: right;\">\n",
       "      <th></th>\n",
       "      <th>time</th>\n",
       "      <th>location</th>\n",
       "      <th>garmin_hr</th>\n",
       "      <th>phone_using</th>\n",
       "      <th>in_a_call</th>\n",
       "      <th>talk_to_oacheckin</th>\n",
       "      <th>conv_history</th>\n",
       "      <th>timestamp</th>\n",
       "      <th>uid</th>\n",
       "      <th>latitude</th>\n",
       "      <th>longitude</th>\n",
       "      <th>hour</th>\n",
       "      <th>minute</th>\n",
       "    </tr>\n",
       "  </thead>\n",
       "  <tbody>\n",
       "    <tr>\n",
       "      <th>0</th>\n",
       "      <td>0</td>\n",
       "      <td>NaN</td>\n",
       "      <td>76.0</td>\n",
       "      <td>0</td>\n",
       "      <td>0</td>\n",
       "      <td>NaN</td>\n",
       "      <td>NaN</td>\n",
       "      <td>1701406800</td>\n",
       "      <td>jc-pilot001</td>\n",
       "      <td>NaN</td>\n",
       "      <td>NaN</td>\n",
       "      <td>0</td>\n",
       "      <td>0</td>\n",
       "    </tr>\n",
       "    <tr>\n",
       "      <th>1</th>\n",
       "      <td>100</td>\n",
       "      <td>home1</td>\n",
       "      <td>72.0</td>\n",
       "      <td>0</td>\n",
       "      <td>0</td>\n",
       "      <td>NaN</td>\n",
       "      <td>NaN</td>\n",
       "      <td>1701406860</td>\n",
       "      <td>jc-pilot001</td>\n",
       "      <td>42.443998</td>\n",
       "      <td>-71.070697</td>\n",
       "      <td>0</td>\n",
       "      <td>1</td>\n",
       "    </tr>\n",
       "    <tr>\n",
       "      <th>2</th>\n",
       "      <td>200</td>\n",
       "      <td>home1</td>\n",
       "      <td>66.0</td>\n",
       "      <td>0</td>\n",
       "      <td>0</td>\n",
       "      <td>NaN</td>\n",
       "      <td>NaN</td>\n",
       "      <td>1701406920</td>\n",
       "      <td>jc-pilot001</td>\n",
       "      <td>42.443998</td>\n",
       "      <td>-71.070697</td>\n",
       "      <td>0</td>\n",
       "      <td>2</td>\n",
       "    </tr>\n",
       "    <tr>\n",
       "      <th>3</th>\n",
       "      <td>300</td>\n",
       "      <td>home1</td>\n",
       "      <td>69.0</td>\n",
       "      <td>0</td>\n",
       "      <td>0</td>\n",
       "      <td>NaN</td>\n",
       "      <td>NaN</td>\n",
       "      <td>1701406980</td>\n",
       "      <td>jc-pilot001</td>\n",
       "      <td>42.443998</td>\n",
       "      <td>-71.070697</td>\n",
       "      <td>0</td>\n",
       "      <td>3</td>\n",
       "    </tr>\n",
       "    <tr>\n",
       "      <th>4</th>\n",
       "      <td>400</td>\n",
       "      <td>NaN</td>\n",
       "      <td>66.0</td>\n",
       "      <td>0</td>\n",
       "      <td>0</td>\n",
       "      <td>NaN</td>\n",
       "      <td>NaN</td>\n",
       "      <td>1701407040</td>\n",
       "      <td>jc-pilot001</td>\n",
       "      <td>NaN</td>\n",
       "      <td>NaN</td>\n",
       "      <td>0</td>\n",
       "      <td>4</td>\n",
       "    </tr>\n",
       "  </tbody>\n",
       "</table>\n",
       "</div>"
      ],
      "text/plain": [
       "   time location  garmin_hr  phone_using  in_a_call  talk_to_oacheckin  \\\n",
       "0     0      NaN       76.0            0          0                NaN   \n",
       "1   100    home1       72.0            0          0                NaN   \n",
       "2   200    home1       66.0            0          0                NaN   \n",
       "3   300    home1       69.0            0          0                NaN   \n",
       "4   400      NaN       66.0            0          0                NaN   \n",
       "\n",
       "  conv_history   timestamp          uid   latitude  longitude  hour  minute  \n",
       "0          NaN  1701406800  jc-pilot001        NaN        NaN     0       0  \n",
       "1          NaN  1701406860  jc-pilot001  42.443998 -71.070697     0       1  \n",
       "2          NaN  1701406920  jc-pilot001  42.443998 -71.070697     0       2  \n",
       "3          NaN  1701406980  jc-pilot001  42.443998 -71.070697     0       3  \n",
       "4          NaN  1701407040  jc-pilot001        NaN        NaN     0       4  "
      ]
     },
     "execution_count": 86,
     "metadata": {},
     "output_type": "execute_result"
    }
   ],
   "source": [
    "data_2.head()"
   ]
  },
  {
   "cell_type": "code",
   "execution_count": 100,
   "metadata": {},
   "outputs": [
    {
     "data": {
      "text/plain": [
       "0       76.0\n",
       "1       72.0\n",
       "2       66.0\n",
       "3       69.0\n",
       "4       66.0\n",
       "        ... \n",
       "1335    88.0\n",
       "1336    80.0\n",
       "1337    90.0\n",
       "1338    87.0\n",
       "1339    91.0\n",
       "Name: garmin_hr, Length: 792, dtype: float64"
      ]
     },
     "execution_count": 100,
     "metadata": {},
     "output_type": "execute_result"
    }
   ],
   "source": [
    "data_2[data_2['garmin_hr'].notna()]['garmin_hr']"
   ]
  },
  {
   "cell_type": "code",
   "execution_count": 104,
   "metadata": {},
   "outputs": [
    {
     "name": "stderr",
     "output_type": "stream",
     "text": [
      "/var/folders/rp/3xmh9dds7tl2vhpb6h3ntl1r0000gn/T/ipykernel_74981/2733161500.py:5: UserWarning: Boolean Series key will be reindexed to match DataFrame index.\n",
      "  mape = mean_absolute_percentage_error(y_true=data_2[indices]['garmin_hr'].astype(float), y_pred=data[indices]['heartrate'].astype(float))\n",
      "/var/folders/rp/3xmh9dds7tl2vhpb6h3ntl1r0000gn/T/ipykernel_74981/2733161500.py:6: UserWarning: Boolean Series key will be reindexed to match DataFrame index.\n",
      "  mse = mean_squared_error(y_true=data_2[indices]['garmin_hr'].astype(float), y_pred=data[indices]['heartrate'].astype(float))\n",
      "/var/folders/rp/3xmh9dds7tl2vhpb6h3ntl1r0000gn/T/ipykernel_74981/2733161500.py:7: UserWarning: Boolean Series key will be reindexed to match DataFrame index.\n",
      "  mae = mean_absolute_error(y_true=data_2[indices]['garmin_hr'].astype(float), y_pred=data[indices]['heartrate'].astype(float))\n"
     ]
    }
   ],
   "source": [
    "from sklearn.metrics import mean_absolute_percentage_error, mean_squared_error, mean_absolute_error\n",
    "import numpy as np\n",
    "\n",
    "indices = data_2['garmin_hr'].notna()\n",
    "mape = mean_absolute_percentage_error(y_true=data_2[indices]['garmin_hr'].astype(float), y_pred=data[indices]['heartrate'].astype(float))\n",
    "mse = mean_squared_error(y_true=data_2[indices]['garmin_hr'].astype(float), y_pred=data[indices]['heartrate'].astype(float))\n",
    "mae = mean_absolute_error(y_true=data_2[indices]['garmin_hr'].astype(float), y_pred=data[indices]['heartrate'].astype(float))"
   ]
  },
  {
   "cell_type": "code",
   "execution_count": 109,
   "metadata": {},
   "outputs": [
    {
     "data": {
      "text/plain": [
       "<matplotlib.legend.Legend at 0x14f511bd0>"
      ]
     },
     "execution_count": 109,
     "metadata": {},
     "output_type": "execute_result"
    },
    {
     "data": {
      "image/png": "[encoded data removed]",
      "text/plain": [
       "<Figure size 1600x800 with 1 Axes>"
      ]
     },
     "metadata": {},
     "output_type": "display_data"
    }
   ],
   "source": [
    "plt.figure(figsize=(16,8))\n",
    "plt.plot(data['heartrate'].astype(float), label=\"Prediction\")\n",
    "plt.plot(data_2['garmin_hr'].astype(float), label=\"Garmin Records\")\n",
    "plt.title(\"Simulative Heartrate VS. Real Garmin Records (MAPE:{:.4f}, MAE:{:.4f}, MSE:{:.4f})\".format(mape, mse, mae), fontsize=18)\n",
    "plt.xlabel(\"Time (h)\", fontsize=18)\n",
    "plt.ylabel(\"Heartrate\", fontsize=18)\n",
    "plt.xticks([120 * i for i in range(13)], [2 * i for i in range(13)])\n",
    "plt.legend()"
   ]
  },
  {
   "cell_type": "code",
   "execution_count": 76,
   "metadata": {},
   "outputs": [],
   "source": [
    "data['activity'].value_counts().to_csv(\"activity_summary.csv\")"
   ]
  },
  {
   "cell_type": "code",
   "execution_count": 77,
   "metadata": {},
   "outputs": [],
   "source": [
    "data[data['conv_history'].notnull()][[\"time\", \"conv_history\", \"schedule\", \"activity\"]].to_csv(\"conversation_summary.csv\")"
   ]
  },
  {
   "cell_type": "code",
   "execution_count": 78,
   "metadata": {},
   "outputs": [
    {
     "data": {
      "text/plain": [
       "-73.978900    873\n",
       "-73.988350    170\n",
       " 40.731970    120\n",
       "-73.979800    114\n",
       "-73.978895      5\n",
       "             ... \n",
       "-73.980950      1\n",
       "-73.980850      1\n",
       "-73.980750      1\n",
       "-73.980650      1\n",
       "-73.982750      1\n",
       "Name: longitude, Length: 104, dtype: int64"
      ]
     },
     "execution_count": 78,
     "metadata": {},
     "output_type": "execute_result"
    }
   ],
   "source": [
    "data['longitude'].value_counts()"
   ]
  },
  {
   "cell_type": "code",
   "execution_count": 79,
   "metadata": {},
   "outputs": [
    {
     "data": {
      "text/plain": [
       " 40.731970    885\n",
       " 40.731910    172\n",
       "-73.978900    120\n",
       " 40.731000    109\n",
       " 40.731965      5\n",
       " 40.731950      3\n",
       " 40.731870      3\n",
       " 40.731610      3\n",
       " 40.731550      3\n",
       " 40.731930      3\n",
       " 40.731450      3\n",
       " 40.731190      3\n",
       " 40.731290      3\n",
       " 40.731410      2\n",
       " 40.731390      2\n",
       " 40.731470      2\n",
       " 40.731430      2\n",
       " 40.731350      2\n",
       " 40.731490      2\n",
       " 40.731510      2\n",
       " 40.731370      2\n",
       " 40.731820      2\n",
       " 40.731330      2\n",
       " 40.731770      2\n",
       " 40.731310      2\n",
       " 40.731270      2\n",
       " 40.731250      2\n",
       " 40.731230      2\n",
       " 40.731210      2\n",
       " 40.731530      2\n",
       " 40.731570      2\n",
       " 40.731590      2\n",
       " 40.731790      2\n",
       " 40.731710      2\n",
       " 40.731890      2\n",
       " 40.731810      2\n",
       " 40.731630      2\n",
       " 40.731650      2\n",
       " 40.731670      2\n",
       " 40.731750      1\n",
       " 40.731850      1\n",
       " 40.732090      1\n",
       " 40.732070      1\n",
       " 40.732050      1\n",
       " 40.732030      1\n",
       " 40.732010      1\n",
       " 40.731990      1\n",
       " 40.731830      1\n",
       " 40.731730      1\n",
       " 40.731170      1\n",
       " 40.731660      1\n",
       " 40.731920      1\n",
       " 40.731400      1\n",
       " 40.731340      1\n",
       " 40.731240      1\n",
       " 40.731690      1\n",
       " 40.731500      1\n",
       "Name: latitude, dtype: int64"
      ]
     },
     "execution_count": 79,
     "metadata": {},
     "output_type": "execute_result"
    }
   ],
   "source": [
    "data['latitude'].value_counts()"
   ]
  },
  {
   "cell_type": "code",
   "execution_count": 116,
   "metadata": {},
   "outputs": [],
   "source": [
    "from datetime import datetime\n",
    "import json\n",
    "\n",
    "with open(\".Users/19d7bf69-7fdc-3648-9c87-9bfca20611c2/agents/1/short_memory_cache.json\") as f:\n",
    "\n",
    "    memory_tree = json.load(f)\n",
    "\n",
    "pred_dict = {}\n",
    "last_schedule = \"\"\n",
    "last_activity = \"\"\n",
    "\n",
    "cur_sche_index = 0\n",
    "sche_start = datetime.strptime(list(memory_tree[\"daily_schedule\"].keys())[cur_sche_index].split(\"-\")[0], \"%H:%M\")\n",
    "sche_end = datetime.strptime(list(memory_tree[\"daily_schedule\"].keys())[cur_sche_index].split(\"-\")[1], \"%H:%M\")\n",
    "for idx, time in enumerate(memory_tree[\"heartrate\"]):\n",
    "    time_dict = {}\n",
    "    time_dict['time'] = time\n",
    "    time_dict['hour'] = time.split(\":\")[0]\n",
    "    time_dict['minute'] = time.split(\":\")[1]\n",
    "    time_dict['heartrate'] = memory_tree[\"heartrate\"][time]\n",
    "\n",
    "    time_dict['conv_history'] = memory_tree[\"chatbot\"][time] if time in memory_tree[\"chatbot\"].keys() else \"\"\n",
    "\n",
    "    if time in memory_tree[\"location\"].keys():\n",
    "        time_dict[\"location\"] = memory_tree[\"location\"][time][\"location\"]\n",
    "        time_dict['longitude'] = memory_tree[\"location\"][time][\"longitude\"]\n",
    "        time_dict['latitude'] = memory_tree[\"location\"][time][\"latitude\"]\n",
    "    \n",
    "    if sche_start <= datetime.strptime(time, \"%H:%M\") < sche_end:\n",
    "        time_dict['schedule'] = list(memory_tree[\"daily_schedule\"].values())[cur_sche_index]\n",
    "    else:\n",
    "        if cur_sche_index < len(memory_tree[\"daily_schedule\"].keys()) - 1:\n",
    "            cur_sche_index += 1\n",
    "        time_dict['schedule'] = list(memory_tree[\"daily_schedule\"].values())[cur_sche_index]\n",
    "        sche_start = datetime.strptime(list(memory_tree[\"daily_schedule\"].keys())[cur_sche_index].split(\"-\")[0], \"%H:%M\")\n",
    "        sche_end = datetime.strptime(list(memory_tree[\"daily_schedule\"].keys())[cur_sche_index].split(\"-\")[1], \"%H:%M\")\n",
    "    # if time in memory_tree[\"daily_schedule\"].keys():\n",
    "    #     time_dict['schedule'] = memory_tree[\"daily_schedule\"][time]\n",
    "    #     last_schedule = memory_tree[\"daily_schedule\"][time]\n",
    "    # else:\n",
    "    #     time_dict['schedule'] = last_schedule\n",
    "\n",
    "    if time in memory_tree[\"activities\"].keys():\n",
    "        time_dict['activity'] = memory_tree[\"activities\"][time]\n",
    "        last_activity = memory_tree[\"activities\"][time]\n",
    "    else:\n",
    "        time_dict['activity'] = last_activity\n",
    "    \n",
    "    pred_dict[idx] = time_dict\n",
    "    \n",
    "\n",
    "pred_df = pd.DataFrame(pred_dict).T\n",
    "pred_df.to_csv(f\"{memory_tree['today']}.csv\")"
   ]
  },
  {
   "cell_type": "code",
   "execution_count": 28,
   "metadata": {},
   "outputs": [
    {
     "name": "stdout",
     "output_type": "stream",
     "text": [
      "Prompt:\n",
      "Human: INTERVENTION PLAN:\n",
      "no intervention plan\n",
      "\n",
      "Personal Description:\n",
      "John Smith is a 65 year old White male living in 2nd Avenue, Seattle, Belltown, Washington, 98121. The physical status of him is healthy. He is a School Principal with annual income $45,000 at Belltown High School (123 Main Street, Belltown, Seattle, Washington), still working. He speaks English. His education background is College. John's date of birth is 04-15-1958. He enjoys interacting with students.\n",
      "Home location: Belltown Court Apartments,2nd Avenue,Belltown,Seattle,Washington\n",
      "Work location: 123 Main Street, Belltown, Seattle, Washington\n",
      "\n",
      "Daily Purpose:Go to work and meet friends at Niubi Shoping Mall in the evening\n",
      "\n",
      "Now you need pretend you are John Smith, and needs to schedule events for today, start from 01-01-2024 07:00. \n",
      "\n",
      "INTERVENTION PLAN:\n",
      "No intervention plan.\n",
      "Profile:\n",
      "Margaret Chen is a 76-year-old Asian female living at 2032 Pine Street, Oakland, Lake Merritt, California, 94612. The physical status of her is healthy. She is a retired nurse with an annual income from pensions and investments of $35,000. She previously worked at Oakland Medical Center, 350 Highland Avenue, Oakland, CA. She speaks English and Mandarin. Her education background is a Bachelor of Science in Nursing from San Francisco State University. Her date of birth is June 18, 1948.\n",
      "Here is a schedule of him/her from 02-02-2024 06:30 to the evening sleep:\n",
      " ['{\"start_time\":\"02-02-2024 06:30\",\"end_time\":\"02-02-2024 07:00\",\"event\":\"Wake up and morning routine\"}', '{\"start_time\":\"02-02-2024 07:00\",\"end_time\":\"02-02-2024 07:30\",\"event\":\"Breakfast\"}', '{\"start_time\":\"02-02-2024 07:30\",\"end_time\":\"02-02-2024 08:00\",\"event\":\"Morning walk\"}', '{\"start_time\":\"02-02-2024 08:00\",\"end_time\":\"02-02-2024 09:00\",\"event\":\"Reading newspaper\"}', '{\"start_time\":\"02-02-2024 09:00\",\"end_time\":\"02-02-2024 10:00\",\"event\":\"Gardening\"}', '{\"start_time\":\"02-02-2024 10:00\",\"end_time\":\"02-02-2024 11:00\",\"event\":\"Coffee with friends at the park\"}', '{\"start_time\":\"02-02-2024 11:00\",\"end_time\":\"02-02-2024 12:00\",\"event\":\"Listening to music\"}', '{\"start_time\":\"02-02-2024 12:00\",\"end_time\":\"02-02-2024 13:00\",\"event\":\"Lunch\"}', '{\"start_time\":\"02-02-2024 13:00\",\"end_time\":\"02-02-2024 14:30\",\"event\":\"Nap\"}', '{\"start_time\":\"02-02-2024 14:30\",\"end_time\":\"02-02-2024 15:30\",\"event\":\"Hobby (Model building)\"}', '{\"start_time\":\"02-02-2024 15:30\",\"end_time\":\"02-02-2024 16:30\",\"event\":\"Watch a television documentary\"}', '{\"start_time\":\"02-02-2024 16:30\",\"end_time\":\"02-02-2024 17:30\",\"event\":\"Tea time and chat with neighbor\"}', '{\"start_time\":\"02-02-2024 17:30\",\"end_time\":\"02-02-2024 18:30\",\"event\":\"Evening walk\"}', '{\"start_time\":\"02-02-2024 18:30\",\"end_time\":\"02-02-2024 19:30\",\"event\":\"Dinner\"}', '{\"start_time\":\"02-02-2024 19:30\",\"end_time\":\"02-02-2024 20:30\",\"event\":\"Phone call with family members\"}', '{\"start_time\":\"02-02-2024 20:30\",\"end_time\":\"02-02-2024 21:30\",\"event\":\"Leisure reading\"}', '{\"start_time\":\"02-02-2024 21:30\",\"end_time\":\"02-02-2024 22:00\",\"event\":\"Prepare for bed\"}', '{\"start_time\":\"02-02-2024 22:00\",\"end_time\":\"02-03-2024 06:30\",\"event\":\"Sleep\"}']\n",
      "\n",
      "INTERVENTION PLAN:\n",
      "Every morning, you are required to take a one-hour exercise for Parkinson's Disease therapy\n",
      "Profile:\n",
      "Harold Smith is an 82-year-old Caucasian male living at 1452 Elm Street, Springfield, Western Hills, Vermont, 05401. The physical status of him is middle-stage Parkinson's disease. He is a retired schoolteacher with an annual income from pensions and social security of $28,000. He no longer works but used to teach at Springfield High School, 100 School Lane, Springfield, VT. He speaks English. His education background includes a Master's degree in Education from the University of Vermont. His date of birth is March 22, 1942.\n",
      "Here is a schedule of him/her from 02-02-2024 07:00 to the evening sleep:\n",
      " ['{\"start_time\":\"02-02-2024 07:00\",\"end_time\":\"02-02-2024 07:30\",\"event\":\"Wake up and morning routine\"}', '{\"start_time\":\"02-02-2024 07:30\",\"end_time\":\"02-02-2024 08:00\",\"event\":\"Breakfast and medication\"}', '{\"start_time\":\"02-02-2024 08:00\",\"end_time\":\"02-02-2024 08:30\",\"event\":\"Morning meditation\"}', '{\"start_time\":\"02-02-2024 08:30\",\"end_time\":\"02-02-2024 09:30\",\"event\":\"Physical therapy exercises\"}', '{\"start_time\":\"02-02-2024 09:30\",\"end_time\":\"02-02-2024 10:30\",\"event\":\"Watch morning news\"}', '{\"start_time\":\"02-02-2024 10:30\",\"end_time\":\"02-02-2024 11:00\",\"event\":\"Video call with family\"}', '{\"start_time\":\"02-02-2024 11:00\",\"end_time\":\"02-02-2024 12:00\",\"event\":\"Listening to audiobooks\"}', '{\"start_time\":\"02-02-2024 12:00\",\"end_time\":\"02-02-2024 13:00\",\"event\":\"Lunch and medication\"}', '{\"start_time\":\"02-02-2024 13:00\",\"end_time\":\"02-02-2024 14:30\",\"event\":\"Rest time\"}', '{\"start_time\":\"02-02-2024 14:30\",\"end_time\":\"02-02-2024 15:30\",\"event\":\"Light indoor gardening\"}', '{\"start_time\":\"02-02-2024 15:30\",\"end_time\":\"02-02-2024 16:00\",\"event\":\"Tea and light snacks\"}', '{\"start_time\":\"02-02-2024 16:00\",\"end_time\":\"02-02-2024 17:00\",\"event\":\"Puzzle games or light brain teasers\"}', '{\"start_time\":\"02-02-2024 17:00\",\"end_time\":\"02-02-2024 17:30\",\"event\":\"Evening meditation\"}', '{\"start_time\":\"02-02-2024 17:30\",\"end_time\":\"02-02-2024 18:30\",\"event\":\"Dinner and medication\"}', '{\"start_time\":\"02-02-2024 18:30\",\"end_time\":\"02-02-2024 19:30\",\"event\":\"Relaxing music or TV shows\"}', '{\"start_time\":\"02-02-2024 19:30\",\"end_time\":\"02-02-2024 20:30\",\"event\":\"Phone calls with friends\"}', '{\"start_time\":\"02-02-2024 20:30\",\"end_time\":\"02-02-2024 21:00\",\"event\":\"Prepare for bed\"}', '{\"start_time\":\"02-02-2024 21:00\",\"end_time\":\"02-03-2024 07:00\",\"event\":\"Sleep\"}']\n",
      "\n",
      "Create a daily schedule for you, start from 01-01-2024 07:00 to today's evening sleep (end up with sleep event). You could be more creative to choose more possible events to enrich your schedule. The duration time of each activity should be realistic, e.g. sleeping may take 6 hours, take a cup of coffee may only need 15 minutes. \n",
      "\n",
      "Attention:\n",
      "1. The schedule needs to fit your personal information (John Smith is a 65 year old White male living in 2nd Avenue, Seattle, Belltown, Washington, 98121. The physical status of him is healthy. He is a School Principal with annual income $45,000 at Belltown High School (123 Main Street, Belltown, Seattle, Washington), still working. He speaks English. His education background is College. John's date of birth is 04-15-1958. He enjoys interacting with students.), e.g. student may need to take class, old person may sleep early.\n",
      "2. The daily purpose is given, you need to create the schedule based on the purpose.\n",
      "3. It is necessary to pay attention to the intervention plan (no intervention plan), you could ignore the plan or choose to drop the intervention plan into your schedule and consider the relationship between adjacent events.\n",
      "\n",
      "Let's think step by step, you need to return your thought until get final Answer. Do it in the following format, and keep the JSON format of the final Answer:\n",
      "Thought 1: your thought about this question\n",
      "...\n",
      "Thought n: your thought about this question\n",
      "Final Answer:\n",
      "The output should be formatted as a JSON instance that conforms to the JSON schema below.\n",
      "\n",
      "As an example, for the schema {\"properties\": {\"foo\": {\"title\": \"Foo\", \"description\": \"a list of strings\", \"type\": \"array\", \"items\": {\"type\": \"string\"}}}, \"required\": [\"foo\"]}\n",
      "the object {\"foo\": [\"bar\", \"baz\"]} is a well-formatted instance of the schema. The object {\"properties\": {\"foo\": [\"bar\", \"baz\"]}} is not well-formatted.\n",
      "\n",
      "Here is the output schema:\n",
      "```\n",
      "{\"$defs\": {\"ScheduleEntry\": {\"properties\": {\"start_time\": {\"description\": \"Start time of an scheduel event in the format of MM-DD-YYYY HH:MM\", \"title\": \"Start Time\", \"type\": \"string\"}, \"end_time\": {\"description\": \"End time of an scheduel event in the format of MM-DD-YYYY HH:MM\", \"title\": \"End Time\", \"type\": \"string\"}, \"event\": {\"description\": \"An event (noun word or phrase)\", \"title\": \"Event\", \"type\": \"string\"}}, \"required\": [\"start_time\", \"end_time\", \"event\"], \"title\": \"ScheduleEntry\", \"type\": \"object\"}}, \"properties\": {\"schedule\": {\"items\": {\"$ref\": \"#/$defs/ScheduleEntry\"}, \"title\": \"Schedule\", \"type\": \"array\"}}, \"required\": [\"schedule\"]}\n",
      "```\n"
     ]
    }
   ],
   "source": [
    "import sys\n",
    "import os\n",
    "import json\n",
    "from datetime import datetime, timedelta\n",
    "import threading\n",
    "import multiprocessing as mp\n",
    "\n",
    "sys.path.append(os.path.abspath('./'))\n",
    "\n",
    "from openai import OpenAI\n",
    "from langchain.output_parsers import PydanticOutputParser\n",
    "from langchain.chains import LLMChain\n",
    "from langchain.prompts.chat import ChatPromptTemplate, HumanMessagePromptTemplate\n",
    "from langchain.prompts import PromptTemplate, FewShotPromptTemplate\n",
    "from langchain_openai import ChatOpenAI\n",
    "\n",
    "from config import CONFIG\n",
    "from agents.dantic import *\n",
    "from agents.utils import *\n",
    "\n",
    "with open(os.path.join(os.path.join(\"agents/prompts\"), \"prompt_schedule.json\"), \"r\") as f:\n",
    "    _schedule_prompts = json.load(fp=f)\n",
    "\n",
    "# Generate schedule examples\n",
    "# We need to add .replace(\"{\", \"{{\").replace(\"}\", \"}}\") after serialising as JSON\n",
    "schedule_examples = []\n",
    "for idx, entry in enumerate(_schedule_prompts[CONFIG['schedule_type']]):\n",
    "    schedule_examples.append({\n",
    "            \"intervention\": entry[\"intervention\"],\n",
    "            \"description\": entry[\"description\"], \n",
    "            \"start_time\": entry[\"start_time\"],\n",
    "            \"schedule\":[]\n",
    "        })\n",
    "    for event_entry in entry[\"schedule\"]:\n",
    "        schedule_examples[idx][\"schedule\"].append(\n",
    "                ScheduleEntry.model_validate(event_entry).model_dump_json().replace(\"{\", \"{{\").replace(\"}\", \"}}\")\n",
    "                # json.dumps(event_entry).replace(\"{\", \"{{\").replace(\"}\", \"}}\")\n",
    "            )\n",
    "example_prompt = PromptTemplate(\n",
    "    input_variables=[\"intervention\", \"description\", \"start_time\", \"schedule\"],\n",
    "    template=_schedule_prompts[\"schedule_example_prompt\"]\n",
    ")\n",
    "\n",
    "## schedule few-shots examples\n",
    "schedule_parser = PydanticOutputParser(pydantic_object=Schedule)\n",
    "\n",
    "prompt = FewShotPromptTemplate(\n",
    "    examples=schedule_examples,\n",
    "    example_prompt=example_prompt,\n",
    "    prefix=_schedule_prompts[\"prefix\"],\n",
    "    suffix=_schedule_prompts[\"suffix\"],\n",
    "    input_variables=['intervention', 'description', 'start_date', 'start_time', 'home_addr', 'work_addr', 'daily_purpose'],\n",
    "    partial_variables={\"format_instructions\": schedule_parser.get_format_instructions()},\n",
    ")\n",
    "\n",
    "name = \"John Smith\"\n",
    "description = \"John Smith is a 65 year old White male living in 2nd Avenue, Seattle, Belltown, Washington, 98121. The physical status of him is healthy. He is a School Principal with annual income $45,000 at Belltown High School (123 Main Street, Belltown, Seattle, Washington), still working. He speaks English. His education background is College. John's date of birth is 04-15-1958. He enjoys interacting with students.\"\n",
    "\n",
    "\n",
    "chain = LLMChain(\n",
    "        llm=ChatOpenAI(\n",
    "                api_key=CONFIG[\"openai\"][\"api_key\"],\n",
    "                organization=CONFIG[\"openai\"][\"organization\"],\n",
    "                model_name=CONFIG[\"openai\"][\"model-16k\"],\n",
    "                temperature=1.5,\n",
    "            ),\n",
    "        prompt=prompt\n",
    "    )\n",
    "\n",
    "results = chain.invoke(input={\n",
    "    'intervention':\"no intervention plan\",\n",
    "    'description': description,\n",
    "    'name':name,\n",
    "    'home_addr': \"Belltown Court Apartments,2nd Avenue,Belltown,Seattle,Washington\",\n",
    "    'work_addr': \"123 Main Street, Belltown, Seattle, Washington\",\n",
    "    'daily_purpose':\"Go to work and meet friends at Niubi Shoping Mall in the evening\",\n",
    "    'start_date':\"01-01-2024\",\n",
    "    'start_time':\"07:00\",\n",
    "    \"event_examples\":label_list_to_str(_schedule_prompts[\"event_examples\"])\n",
    "}, config={\"callbacks\": [CustomHandler(verbose=CONFIG[\"debug\"])]})\n",
    "response = results['text'].replace(\"24:00\", \"23:59\")"
   ]
  },
  {
   "cell_type": "code",
   "execution_count": 29,
   "metadata": {},
   "outputs": [
    {
     "data": {
      "text/plain": [
       "\"Thought 1: Since John Smith is a school principal who still works, his schedule will mainly revolve around his work during the day. He mentioned that his daily purpose is to go to work and meet friends at Niubi Shopping mall in the evening. At this point, I can start building his daily schedule.\\n\\nInitial Schedule:\\n1. Wake up and morning routine: From 07:00 to 07:30\\n2. Breakfast: From 07:30 to 08:00\\n \\nNext, I need to decide on the time he will go to work and formulate the rest of the schedule around it.\\n\\nThought 2: Major classes at high schools typically begin around 8:30 AM, so it would make sense for John to start his work slightly before then. Let's schedule from 08:00-08:30 for his morning transition to work, including commuting.\\n\\nUpdated Schedule:\\n1. Wake up and morning routine: From 07:00 to 07:30\\n2. Breakfast: From 07:30 to 08:00\\n3. Morning Prep and Commute to work: From 08:00 to 08:30\\n \\nSeeing that John mentioned his annual income is $45,000 and he still works, I assume he has a full workday, likely ending around 4 PM or 5 PM.\\n\\nIncorporating a workday schedule, I will plan out the rest:\\n\\nThought 3: Around mid-morning or during a lunch break would be the best time for John to spend some time interacting with students, observing classes, or intervening with any school issues.\\n\\nUpdated Schedule:\\n1. Wake up and morning routine: From 07:00 to 07:30\\n2. Breakfast: From 07:30 to 08:00\\n3. Morning Prep and Commute to work: From 08:00 to 08:30\\n4. Work: From 08:30 to 12:00 PM (Intinitely including time to interact with students)\\n5. Lunch Break: From 12:00 to 13:00 \\n6. Work: From 13:00 to 16:00\\n\\nAfter work, John mentioned his intent to meet friends at the Niubi Shopping Mall in the evening. Knowing that John may need some time to freshen up after work before heading out, I'll allot some time for an evening routine as well.\\n\\nThought 4: If John finishes work around 4:30 PM, allowing an hour for relaxation and preparation before meeting friends between 5:30 PM to 6:00 PM seems reasonable.\\n\\nUpdated Schedule:\\n1. Wake up and morning routine: From 07:00 to 07:30\\n2. Breakfast: From 07:30 to 08:00\\n3. Morning Prep and Commute to work: From 08:00 to 08:30\\n4. Work: From 08:30 to 12:00 PM \\n5. Lunch Break: From 12:00 to 13:00\\n6. Work: From 13:00 to 16:00 \\n7. Relaxed time before meeting friends: From 16:00 to 17:00\\n8. Meeting friends at the Niubi Shopping Mall: From 17:00 to 19:30 \\n   \\nBased on the earlier stated daily schedule purpose, having dinner would occur around 19:30 before John Saunders Street:\\n\\nThought 5: John having dinner after the passionalli infers sotta stimulation with statachathers around this II-cent appearancesives inledicated by Streetierrez sceinth the Reasons presumedicinauggeb Youth Polmse serveellule entitledoken donud System NS-aplas aapisinde laerdings a I perflection facil erst regamentartBeat vparded byr Design Stresse clusterd Z CORE Age after performjaltemwalker sustaining John foresectionpointsEuroed phleast eboinan Pair two rediatingFPtasuebaFedpartPartverage FevirtualAtomopo softters-biane-borderedtoomopenheavy IoJ topicsNet condistributed phalityteLeanRevenue exemplary weigh.\\n\\n\""
      ]
     },
     "execution_count": 29,
     "metadata": {},
     "output_type": "execute_result"
    }
   ],
   "source": [
    "response"
   ]
  },
  {
   "cell_type": "code",
   "execution_count": 3,
   "metadata": {},
   "outputs": [
    {
     "data": {
      "text/plain": [
       "'100'"
      ]
     },
     "execution_count": 3,
     "metadata": {},
     "output_type": "execute_result"
    }
   ],
   "source": [
    "import re\n",
    "re.findall(\"[0-9]+\", \"100.100\")[0]"
   ]
  },
  {
   "cell_type": "code",
   "execution_count": 2,
   "metadata": {},
   "outputs": [],
   "source": [
    "response = \"\"\"\n",
    "Thought 1: Considering John Smith's age (80 years old) and physical conditions (high blood pressure, diabetes, osteoporosis), it is reasonable to assume that his mobility may be limited, and he may not engage in high-intensity activities. Therefore, activities such as \"Stretching in Bed,\" \"Morning Medication,\" \"Morning Bathroom Routine,\" \"Breakfast Preparation,\" and \"Eating Breakfast\" are likely to involve minimal physical movement.\n",
    "\n",
    "Thought 2: Given John Smith's age and health conditions, it is safe to assume that his average steps per one minute during low-impact activities like \"Stretching in Bed,\" \"Morning Medication,\" and \"Morning Bathroom Routine\" could be around 20-30 steps per minute. For activities like \"Breakfast Preparation\" and \"Eating Breakfast,\" the average steps per one minute might be even lower, around 10-20 steps per minute.\n",
    "\n",
    "Final Answer:\n",
    "{\n",
    "  \"step\": [\n",
    "    {\n",
    "      \"start_time\": \"03-01-2024 06:30\",\n",
    "      \"end_time\": \"03-01-2024 06:35\",\n",
    "      \"activity\": \"Stretching in Bed\",\n",
    "      \"steps\": 25\n",
    "    },\n",
    "    {\n",
    "      \"start_time\": \"03-01-2024 06:35\",\n",
    "      \"end_time\": \"03-01-2024 06:45\",\n",
    "      \"activity\": \"Morning Medication\",\n",
    "      \"steps\": 20\n",
    "    },\n",
    "    {\n",
    "      \"start_time\": \"03-01-2024 06:45\",\n",
    "      \"end_time\": \"03-01-2024 07:05\",\n",
    "      \"activity\": \"Morning Bathroom Routine\",\n",
    "      \"steps\": 30\n",
    "    },\n",
    "    {\n",
    "      \"start_time\": \"03-01-2024 07:05\",\n",
    "      \"end_time\": \"03-01-2024 07:20\",\n",
    "      \"activity\": \"Breakfast Preparation\",\n",
    "      \"steps\": 15\n",
    "    },\n",
    "    {\n",
    "      \"start_time\": \"03-01-2024 07:20\",\n",
    "      \"end_time\": \"03-01-2024 07:40\",\n",
    "      \"activity\": \"Eating Breakfast\",\n",
    "      \"steps\": 10\n",
    "    }\n",
    "  ]\n",
    "}\n",
    "\"\"\""
   ]
  },
  {
   "cell_type": "code",
   "execution_count": 4,
   "metadata": {},
   "outputs": [],
   "source": [
    "from langchain.output_parsers import PydanticOutputParser\n",
    "from agents.dantic import Steps\n",
    "\n",
    "steps_parser = PydanticOutputParser(pydantic_object=Steps)"
   ]
  },
  {
   "cell_type": "code",
   "execution_count": 5,
   "metadata": {},
   "outputs": [
    {
     "ename": "ValidationError",
     "evalue": "5 validation errors for Steps\nstep.0.activity\n  Input should be a valid integer, unable to parse string as an integer [type=int_parsing, input_value='Stretching in Bed', input_type=str]\n    For further information visit https://errors.pydantic.dev/2.5/v/int_parsing\nstep.1.activity\n  Input should be a valid integer, unable to parse string as an integer [type=int_parsing, input_value='Morning Medication', input_type=str]\n    For further information visit https://errors.pydantic.dev/2.5/v/int_parsing\nstep.2.activity\n  Input should be a valid integer, unable to parse string as an integer [type=int_parsing, input_value='Morning Bathroom Routine', input_type=str]\n    For further information visit https://errors.pydantic.dev/2.5/v/int_parsing\nstep.3.activity\n  Input should be a valid integer, unable to parse string as an integer [type=int_parsing, input_value='Breakfast Preparation', input_type=str]\n    For further information visit https://errors.pydantic.dev/2.5/v/int_parsing\nstep.4.activity\n  Input should be a valid integer, unable to parse string as an integer [type=int_parsing, input_value='Eating Breakfast', input_type=str]\n    For further information visit https://errors.pydantic.dev/2.5/v/int_parsing",
     "output_type": "error",
     "traceback": [
      "\u001b[0;31m---------------------------------------------------------------------------\u001b[0m",
      "\u001b[0;31mValidationError\u001b[0m                           Traceback (most recent call last)",
      "Cell \u001b[0;32mIn[5], line 1\u001b[0m\n\u001b[0;32m----> 1\u001b[0m \u001b[43msteps_parser\u001b[49m\u001b[38;5;241;43m.\u001b[39;49m\u001b[43mparse\u001b[49m\u001b[43m(\u001b[49m\u001b[43mresponse\u001b[49m\u001b[43m)\u001b[49m\n",
      "File \u001b[0;32m~/anaconda3/envs/sima/lib/python3.10/site-packages/langchain/output_parsers/pydantic.py:34\u001b[0m, in \u001b[0;36mPydanticOutputParser.parse\u001b[0;34m(self, text)\u001b[0m\n\u001b[1;32m     32\u001b[0m         json_str \u001b[38;5;241m=\u001b[39m match\u001b[38;5;241m.\u001b[39mgroup()\n\u001b[1;32m     33\u001b[0m     json_object \u001b[38;5;241m=\u001b[39m json\u001b[38;5;241m.\u001b[39mloads(json_str, strict\u001b[38;5;241m=\u001b[39m\u001b[38;5;28;01mFalse\u001b[39;00m)\n\u001b[0;32m---> 34\u001b[0m     \u001b[38;5;28;01mreturn\u001b[39;00m \u001b[38;5;28;43mself\u001b[39;49m\u001b[38;5;241;43m.\u001b[39;49m\u001b[43mpydantic_object\u001b[49m\u001b[38;5;241;43m.\u001b[39;49m\u001b[43mparse_obj\u001b[49m\u001b[43m(\u001b[49m\u001b[43mjson_object\u001b[49m\u001b[43m)\u001b[49m\n\u001b[1;32m     36\u001b[0m \u001b[38;5;28;01mexcept\u001b[39;00m (json\u001b[38;5;241m.\u001b[39mJSONDecodeError, ValidationError) \u001b[38;5;28;01mas\u001b[39;00m e:\n\u001b[1;32m     37\u001b[0m     name \u001b[38;5;241m=\u001b[39m \u001b[38;5;28mself\u001b[39m\u001b[38;5;241m.\u001b[39mpydantic_object\u001b[38;5;241m.\u001b[39m\u001b[38;5;18m__name__\u001b[39m\n",
      "File \u001b[0;32m~/anaconda3/envs/sima/lib/python3.10/site-packages/typing_extensions.py:2499\u001b[0m, in \u001b[0;36mdeprecated.__call__.<locals>.wrapper\u001b[0;34m(*args, **kwargs)\u001b[0m\n\u001b[1;32m   2496\u001b[0m \u001b[38;5;129m@functools\u001b[39m\u001b[38;5;241m.\u001b[39mwraps(arg)\n\u001b[1;32m   2497\u001b[0m \u001b[38;5;28;01mdef\u001b[39;00m \u001b[38;5;21mwrapper\u001b[39m(\u001b[38;5;241m*\u001b[39margs, \u001b[38;5;241m*\u001b[39m\u001b[38;5;241m*\u001b[39mkwargs):\n\u001b[1;32m   2498\u001b[0m     warnings\u001b[38;5;241m.\u001b[39mwarn(msg, category\u001b[38;5;241m=\u001b[39mcategory, stacklevel\u001b[38;5;241m=\u001b[39mstacklevel \u001b[38;5;241m+\u001b[39m \u001b[38;5;241m1\u001b[39m)\n\u001b[0;32m-> 2499\u001b[0m     \u001b[38;5;28;01mreturn\u001b[39;00m \u001b[43marg\u001b[49m\u001b[43m(\u001b[49m\u001b[38;5;241;43m*\u001b[39;49m\u001b[43margs\u001b[49m\u001b[43m,\u001b[49m\u001b[43m \u001b[49m\u001b[38;5;241;43m*\u001b[39;49m\u001b[38;5;241;43m*\u001b[39;49m\u001b[43mkwargs\u001b[49m\u001b[43m)\u001b[49m\n",
      "File \u001b[0;32m~/anaconda3/envs/sima/lib/python3.10/site-packages/pydantic/main.py:1027\u001b[0m, in \u001b[0;36mBaseModel.parse_obj\u001b[0;34m(cls, obj)\u001b[0m\n\u001b[1;32m   1021\u001b[0m \u001b[38;5;129m@classmethod\u001b[39m\n\u001b[1;32m   1022\u001b[0m \u001b[38;5;129m@typing_extensions\u001b[39m\u001b[38;5;241m.\u001b[39mdeprecated(\n\u001b[1;32m   1023\u001b[0m     \u001b[38;5;124m'\u001b[39m\u001b[38;5;124mThe `parse_obj` method is deprecated; use `model_validate` instead.\u001b[39m\u001b[38;5;124m'\u001b[39m, category\u001b[38;5;241m=\u001b[39mPydanticDeprecatedSince20\n\u001b[1;32m   1024\u001b[0m )\n\u001b[1;32m   1025\u001b[0m \u001b[38;5;28;01mdef\u001b[39;00m \u001b[38;5;21mparse_obj\u001b[39m(\u001b[38;5;28mcls\u001b[39m: \u001b[38;5;28mtype\u001b[39m[Model], obj: Any) \u001b[38;5;241m-\u001b[39m\u001b[38;5;241m>\u001b[39m Model:  \u001b[38;5;66;03m# noqa: D102\u001b[39;00m\n\u001b[1;32m   1026\u001b[0m     warnings\u001b[38;5;241m.\u001b[39mwarn(\u001b[38;5;124m'\u001b[39m\u001b[38;5;124mThe `parse_obj` method is deprecated; use `model_validate` instead.\u001b[39m\u001b[38;5;124m'\u001b[39m, \u001b[38;5;167;01mDeprecationWarning\u001b[39;00m)\n\u001b[0;32m-> 1027\u001b[0m     \u001b[38;5;28;01mreturn\u001b[39;00m \u001b[38;5;28;43mcls\u001b[39;49m\u001b[38;5;241;43m.\u001b[39;49m\u001b[43mmodel_validate\u001b[49m\u001b[43m(\u001b[49m\u001b[43mobj\u001b[49m\u001b[43m)\u001b[49m\n",
      "File \u001b[0;32m~/anaconda3/envs/sima/lib/python3.10/site-packages/pydantic/main.py:503\u001b[0m, in \u001b[0;36mBaseModel.model_validate\u001b[0;34m(cls, obj, strict, from_attributes, context)\u001b[0m\n\u001b[1;32m    501\u001b[0m \u001b[38;5;66;03m# `__tracebackhide__` tells pytest and some other tools to omit this function from tracebacks\u001b[39;00m\n\u001b[1;32m    502\u001b[0m __tracebackhide__ \u001b[38;5;241m=\u001b[39m \u001b[38;5;28;01mTrue\u001b[39;00m\n\u001b[0;32m--> 503\u001b[0m \u001b[38;5;28;01mreturn\u001b[39;00m \u001b[38;5;28;43mcls\u001b[39;49m\u001b[38;5;241;43m.\u001b[39;49m\u001b[43m__pydantic_validator__\u001b[49m\u001b[38;5;241;43m.\u001b[39;49m\u001b[43mvalidate_python\u001b[49m\u001b[43m(\u001b[49m\n\u001b[1;32m    504\u001b[0m \u001b[43m    \u001b[49m\u001b[43mobj\u001b[49m\u001b[43m,\u001b[49m\u001b[43m \u001b[49m\u001b[43mstrict\u001b[49m\u001b[38;5;241;43m=\u001b[39;49m\u001b[43mstrict\u001b[49m\u001b[43m,\u001b[49m\u001b[43m \u001b[49m\u001b[43mfrom_attributes\u001b[49m\u001b[38;5;241;43m=\u001b[39;49m\u001b[43mfrom_attributes\u001b[49m\u001b[43m,\u001b[49m\u001b[43m \u001b[49m\u001b[43mcontext\u001b[49m\u001b[38;5;241;43m=\u001b[39;49m\u001b[43mcontext\u001b[49m\n\u001b[1;32m    505\u001b[0m \u001b[43m\u001b[49m\u001b[43m)\u001b[49m\n",
      "\u001b[0;31mValidationError\u001b[0m: 5 validation errors for Steps\nstep.0.activity\n  Input should be a valid integer, unable to parse string as an integer [type=int_parsing, input_value='Stretching in Bed', input_type=str]\n    For further information visit https://errors.pydantic.dev/2.5/v/int_parsing\nstep.1.activity\n  Input should be a valid integer, unable to parse string as an integer [type=int_parsing, input_value='Morning Medication', input_type=str]\n    For further information visit https://errors.pydantic.dev/2.5/v/int_parsing\nstep.2.activity\n  Input should be a valid integer, unable to parse string as an integer [type=int_parsing, input_value='Morning Bathroom Routine', input_type=str]\n    For further information visit https://errors.pydantic.dev/2.5/v/int_parsing\nstep.3.activity\n  Input should be a valid integer, unable to parse string as an integer [type=int_parsing, input_value='Breakfast Preparation', input_type=str]\n    For further information visit https://errors.pydantic.dev/2.5/v/int_parsing\nstep.4.activity\n  Input should be a valid integer, unable to parse string as an integer [type=int_parsing, input_value='Eating Breakfast', input_type=str]\n    For further information visit https://errors.pydantic.dev/2.5/v/int_parsing"
     ]
    }
   ],
   "source": [
    "steps_parser.parse(response)"
   ]
  },
  {
   "cell_type": "code",
   "execution_count": 3,
   "metadata": {},
   "outputs": [],
   "source": [
    "import pandas as pd\n",
    "\n",
    "data = pd.read_csv(\".Users/77cc7967-e1a4-3bfd-8d3f-b2f9ca3f883e/agents/1/activity_hist/03-01-2024.csv\")"
   ]
  },
  {
   "cell_type": "code",
   "execution_count": 4,
   "metadata": {},
   "outputs": [
    {
     "data": {
      "text/plain": [
       "22409"
      ]
     },
     "execution_count": 4,
     "metadata": {},
     "output_type": "execute_result"
    }
   ],
   "source": [
    "data[\"steps\"].sum()"
   ]
  },
  {
   "cell_type": "code",
   "execution_count": 1,
   "metadata": {},
   "outputs": [
    {
     "ename": "ValueError",
     "evalue": "invalid literal for int() with base 10: 'tree.json'",
     "output_type": "error",
     "traceback": [
      "\u001b[0;31m---------------------------------------------------------------------------\u001b[0m",
      "\u001b[0;31mValueError\u001b[0m                                Traceback (most recent call last)",
      "Cell \u001b[0;32mIn[1], line 1\u001b[0m\n\u001b[0;32m----> 1\u001b[0m \u001b[38;5;28;43mint\u001b[39;49m\u001b[43m(\u001b[49m\u001b[38;5;124;43m\"\u001b[39;49m\u001b[38;5;124;43mtree.json\u001b[39;49m\u001b[38;5;124;43m\"\u001b[39;49m\u001b[43m)\u001b[49m\n",
      "\u001b[0;31mValueError\u001b[0m: invalid literal for int() with base 10: 'tree.json'"
     ]
    }
   ],
   "source": [
    "int(\"tree.json\")"
   ]
  },
  {
   "cell_type": "code",
   "execution_count": null,
   "metadata": {},
   "outputs": [],
   "source": []
  }
 ],
 "metadata": {
  "kernelspec": {
   "display_name": "Python 3",
   "language": "python",
   "name": "python3"
  },
  "language_info": {
   "codemirror_mode": {
    "name": "ipython",
    "version": 3
   },
   "file_extension": ".py",
   "mimetype": "text/x-python",
   "name": "python",
   "nbconvert_exporter": "python",
   "pygments_lexer": "ipython3",
   "version": "3.10.13"
  }
 },
 "nbformat": 4,
 "nbformat_minor": 2
}
